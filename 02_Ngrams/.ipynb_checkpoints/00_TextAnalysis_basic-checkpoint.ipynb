{
 "cells": [
  {
   "cell_type": "markdown",
   "metadata": {
    "id": "unJwdVXqzSU7"
   },
   "source": [
    "# Counts, Frequencies, and Ngram Models\n",
    "\n",
    "Before you proceed, make sure to run the cell below.\n",
    "This will once again read in the cleaned up text files and store them as tokenized lists in the variables `hamlet`, `faustus`, and `mars`.\n",
    "If you get an error, make sure that you did the previous notebook and that this notebook is in a folder containing the files `hamlex_clean.txt`, `faustus_clean.txt`, and `mars_clean.txt` (which should be the case if you did the previous notebook)."
   ]
  },
  {
   "cell_type": "code",
   "execution_count": 1,
   "metadata": {
    "colab": {
     "base_uri": "https://localhost:8080/",
     "height": 199,
     "resources": {
      "http://localhost:8080/nbextensions/google.colab/files.js": {
       "data": "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",
       "headers": [
        [
         "content-type",
         "application/javascript"
        ]
       ],
       "ok": true,
       "status": 200,
       "status_text": ""
      }
     }
    },
    "id": "1Iy5KNE6zSU7",
    "outputId": "0a48ebf9-d3a6-42fc-df7f-a8c505cfbf53"
   },
   "outputs": [
    {
     "data": {
      "text/html": [
       "\n",
       "     <input type=\"file\" id=\"files-ff5d0b50-bd70-4cde-aad9-b16fdbb54280\" name=\"files[]\" multiple disabled\n",
       "        style=\"border:none\" />\n",
       "     <output id=\"result-ff5d0b50-bd70-4cde-aad9-b16fdbb54280\">\n",
       "      Upload widget is only available when the cell has been executed in the\n",
       "      current browser session. Please rerun this cell to enable.\n",
       "      </output>\n",
       "      <script src=\"/nbextensions/google.colab/files.js\"></script> "
      ],
      "text/plain": [
       "<IPython.core.display.HTML object>"
      ]
     },
     "metadata": {
      "tags": []
     },
     "output_type": "display_data"
    },
    {
     "name": "stdout",
     "output_type": "stream",
     "text": [
      "Saving faustus_clean.txt to faustus_clean.txt\n"
     ]
    },
    {
     "data": {
      "text/html": [
       "\n",
       "     <input type=\"file\" id=\"files-b34dee41-b926-499b-af84-5a0c349b50e2\" name=\"files[]\" multiple disabled\n",
       "        style=\"border:none\" />\n",
       "     <output id=\"result-b34dee41-b926-499b-af84-5a0c349b50e2\">\n",
       "      Upload widget is only available when the cell has been executed in the\n",
       "      current browser session. Please rerun this cell to enable.\n",
       "      </output>\n",
       "      <script src=\"/nbextensions/google.colab/files.js\"></script> "
      ],
      "text/plain": [
       "<IPython.core.display.HTML object>"
      ]
     },
     "metadata": {
      "tags": []
     },
     "output_type": "display_data"
    },
    {
     "name": "stdout",
     "output_type": "stream",
     "text": [
      "Saving hamlet_clean.txt to hamlet_clean.txt\n"
     ]
    },
    {
     "data": {
      "text/html": [
       "\n",
       "     <input type=\"file\" id=\"files-6cb696b1-4405-4375-99e4-7995566bceec\" name=\"files[]\" multiple disabled\n",
       "        style=\"border:none\" />\n",
       "     <output id=\"result-6cb696b1-4405-4375-99e4-7995566bceec\">\n",
       "      Upload widget is only available when the cell has been executed in the\n",
       "      current browser session. Please rerun this cell to enable.\n",
       "      </output>\n",
       "      <script src=\"/nbextensions/google.colab/files.js\"></script> "
      ],
      "text/plain": [
       "<IPython.core.display.HTML object>"
      ]
     },
     "metadata": {
      "tags": []
     },
     "output_type": "display_data"
    },
    {
     "name": "stdout",
     "output_type": "stream",
     "text": [
      "Saving mars_clean.txt to mars_clean.txt\n",
      "dict_keys(['faustus_clean.txt'])\n"
     ]
    }
   ],
   "source": [
    "from google.colab import files\n",
    "\n",
    "\n",
    "#Import files\n",
    "upload1 = files.upload()\n",
    "upload2 = files.upload()\n",
    "upload3 = files.upload()\n",
    "\n",
    "hamlet_full  = upload1['faustus_clean.txt'].decode('utf-8')\n",
    "faustus_full = upload2['hamlet_clean.txt'].decode('utf-8')\n",
    "mars_full = upload3['mars_clean.txt'].decode('utf-8')\n",
    "\n"
   ]
  },
  {
   "cell_type": "code",
   "execution_count": 10,
   "metadata": {
    "id": "BoKXUIAJ1awf"
   },
   "outputs": [],
   "source": [
    "import re\n",
    "def tokenize(the_string):\n",
    "    \"\"\"Convert string to list of words\"\"\"\n",
    "    return re.findall(r\"\\w+\", the_string)\n",
    "\n",
    "\n",
    "# define a variable for each token list\n",
    "hamlet = tokenize(hamlet_full)\n",
    "faustus = tokenize(faustus_full)\n",
    "mars = tokenize(mars_full)"
   ]
  },
  {
   "cell_type": "markdown",
   "metadata": {
    "id": "3Ha7kYZWzSU7"
   },
   "source": [
    "**Caution.**\n",
    "If you restart the kernel at any point, make sure to run all these previous cells again so that the variables `hamlet`, `faustus`, and `mars` are defined."
   ]
  },
  {
   "cell_type": "markdown",
   "metadata": {
    "id": "pJtHy4zwzSU7"
   },
   "source": [
    "## Counting words\n",
    "\n",
    "Python makes it very easy to count how often an element occurs in a list: the `collections` library provides a function `Counter` that does the counting for us.\n",
    "The `Counter` function takes as its only argument a list (like the ones produced by `re.findall` for tokenization).\n",
    "It then converts the list into a *Counter*.\n",
    "Here is what this looks like with a short example string."
   ]
  },
  {
   "cell_type": "code",
   "execution_count": 11,
   "metadata": {
    "colab": {
     "base_uri": "https://localhost:8080/"
    },
    "id": "rFzd5xnLzSU7",
    "outputId": "3009b63d-c86f-4ee5-f434-02540175fb48"
   },
   "outputs": [
    {
     "name": "stdout",
     "output_type": "stream",
     "text": [
      "The list of tokens: ['ftl', 'is', 'short', 'for', 'faster', 'than', 'light', 'we', 'probably', 'won', 't', 'ever', 'have', 'space', 'ships', 'capable', 'of', 'ftl', 'travel']\n",
      "\n",
      "Number of tokens for each word type: Counter({'ftl': 2, 'is': 1, 'short': 1, 'for': 1, 'faster': 1, 'than': 1, 'light': 1, 'we': 1, 'probably': 1, 'won': 1, 't': 1, 'ever': 1, 'have': 1, 'space': 1, 'ships': 1, 'capable': 1, 'of': 1, 'travel': 1})\n"
     ]
    }
   ],
   "source": [
    "import re\n",
    "from collections import Counter  # this allows us to use Counter instead of collections.Counter\n",
    "\n",
    "test_string = \"FTL is short for faster-than-light; we probably won't ever have space ships capable of FTL-travel.\"\n",
    "\n",
    "# tokenize the string\n",
    "tokens = re.findall(r\"\\w+\", str.lower(test_string))\n",
    "print(\"The list of tokens:\", tokens)\n",
    "\n",
    "# add an empty line\n",
    "print()\n",
    "\n",
    "# and now do the counting\n",
    "counts = Counter(tokens)\n",
    "print(\"Number of tokens for each word type:\", counts)"
   ]
  },
  {
   "cell_type": "markdown",
   "metadata": {
    "id": "rcDv96NFzSU7"
   },
   "source": [
    "Let's take a quick peak at what the counts looks like for each text.\n",
    "We don't want to do this with something like `print(counts_hamlet)`, because the output would be so large that your browser might actually choke on it (it has happened to me sometimes).\n",
    "Instead, we will look at the 100 most common words.\n",
    "We can do this with the function `Counter.most_common`, which takes two arguments: a Counter, and a positive number."
   ]
  },
  {
   "cell_type": "code",
   "execution_count": 12,
   "metadata": {
    "colab": {
     "base_uri": "https://localhost:8080/"
    },
    "id": "YhmGQPakzSU7",
    "outputId": "44cc3c82-456f-47ca-af17-8b08a29ae640"
   },
   "outputs": [
    {
     "name": "stdout",
     "output_type": "stream",
     "text": [
      "Most common Hamlet words: [('and', 509), ('the', 501), ('i', 400), ('of', 338), ('to', 333), ('that', 226), ('a', 212), ('in', 189), ('me', 187), ('faustus', 181), ('you', 176), ('my', 169), ('for', 161), ('thou', 154), ('d', 152), ('this', 146), ('not', 139), ('be', 137), ('is', 136), ('his', 134), ('with', 134), ('s', 117), ('what', 116), ('but', 114), ('it', 104), ('we', 98), ('will', 98), ('have', 97), ('all', 96), ('he', 93), ('as', 93), ('him', 92), ('now', 90), ('o', 85), ('thee', 79), ('shall', 78), ('then', 77), ('ll', 77), ('come', 76), ('your', 74), ('so', 72), ('are', 70), ('do', 67), ('thy', 66), ('see', 60), ('hell', 58), ('no', 54), ('on', 54), ('or', 51), ('may', 50), ('our', 48), ('soul', 48), ('if', 47), ('from', 46), ('an', 45), ('at', 44), ('by', 44), ('mephistophilis', 43), ('us', 42), ('these', 42), ('let', 42), ('am', 41), ('tell', 41), ('ay', 40), ('art', 39), ('was', 38), ('how', 38), ('they', 38), ('here', 37), ('sir', 36), ('make', 35), ('them', 35), ('into', 35), ('there', 34), ('go', 33), ('heaven', 33), ('where', 32), ('world', 32), ('lucifer', 32), ('lord', 31), ('doctor', 30), ('why', 30), ('god', 30), ('hath', 30), ('horse', 30), ('must', 29), ('some', 29), ('their', 29), ('would', 29), ('had', 29), ('can', 28), ('such', 28), ('devil', 28), ('take', 28), ('good', 27), ('upon', 27), ('more', 27), ('again', 27), ('one', 27), ('emperor', 26)]\n",
      "\n",
      "Most common Faustus words: [('the', 1060), ('and', 962), ('to', 728), ('of', 662), ('i', 623), ('you', 558), ('a', 525), ('my', 516), ('hamlet', 458), ('in', 434), ('it', 420), ('that', 405), ('is', 357), ('not', 314), ('this', 300), ('his', 295), ('d', 285), ('with', 266), ('but', 263), ('for', 252), ('your', 242), ('s', 235), ('me', 235), ('he', 231), ('as', 227), ('be', 222), ('lord', 221), ('what', 218), ('so', 198), ('king', 197), ('him', 194), ('have', 183), ('will', 170), ('do', 161), ('o', 155), ('we', 152), ('horatio', 150), ('no', 142), ('on', 136), ('are', 130), ('our', 119), ('if', 117), ('by', 117), ('all', 116), ('queen', 116), ('or', 114), ('shall', 114), ('good', 110), ('thou', 107), ('let', 105), ('come', 104), ('polonius', 104), ('laertes', 102), ('they', 98), ('now', 96), ('more', 96), ('there', 95), ('from', 95), ('t', 95), ('her', 91), ('how', 88), ('at', 86), ('was', 86), ('thy', 86), ('ophelia', 85), ('like', 84), ('most', 82), ('would', 81), ('know', 78), ('ll', 78), ('well', 77), ('sir', 75), ('tis', 74), ('them', 74), ('enter', 72), ('us', 71), ('may', 71), ('father', 70), ('go', 70), ('love', 68), ('rosencrantz', 68), ('did', 66), ('very', 66), ('hath', 64), ('speak', 63), ('then', 63), ('which', 63), ('why', 62), ('here', 62), ('first', 61), ('must', 60), ('give', 59), ('thee', 58), ('such', 58), ('their', 58), ('upon', 57), ('where', 57), ('man', 57), ('make', 56), ('th', 56)]\n",
      "\n",
      "Most common John Carter words: [('the', 4530), ('of', 2527), ('and', 2287), ('i', 1877), ('to', 1668), ('a', 1259), ('my', 951), ('in', 935), ('was', 822), ('that', 759), ('as', 725), ('me', 669), ('had', 659), ('with', 563), ('for', 526), ('it', 491), ('but', 436), ('which', 429), ('upon', 428), ('from', 419), ('his', 417), ('he', 381), ('her', 375), ('not', 374), ('you', 365), ('were', 337), ('at', 329), ('we', 317), ('they', 306), ('she', 293), ('by', 291), ('have', 274), ('their', 264), ('is', 261), ('on', 254), ('one', 254), ('this', 224), ('be', 216), ('would', 213), ('could', 208), ('so', 202), ('an', 197), ('all', 195), ('them', 193), ('him', 180), ('or', 176), ('dejah', 172), ('thoris', 172), ('than', 170), ('are', 170), ('no', 169), ('great', 161), ('been', 160), ('our', 158), ('before', 146), ('there', 144), ('then', 143), ('into', 140), ('other', 133), ('when', 131), ('who', 128), ('us', 128), ('your', 127), ('only', 121), ('toward', 121), ('sola', 121), ('little', 117), ('warriors', 117), ('did', 114), ('martian', 110), ('some', 107), ('out', 107), ('helium', 107), ('green', 105), ('two', 102), ('men', 100), ('these', 99), ('now', 98), ('about', 97), ('first', 97), ('s', 95), ('tars', 94), ('tarkas', 94), ('city', 92), ('after', 91), ('through', 91), ('what', 90), ('time', 89), ('more', 88), ('feet', 88), ('do', 87), ('where', 86), ('up', 85), ('man', 84), ('until', 81), ('over', 81), ('without', 80), ('down', 78), ('barsoom', 77), ('know', 76)]\n"
     ]
    }
   ],
   "source": [
    "from collections import Counter\n",
    "\n",
    "# construct the counters\n",
    "counts_hamlet = Counter(hamlet)\n",
    "counts_faustus = Counter(faustus)\n",
    "counts_mars = Counter(mars)\n",
    "\n",
    "print(\"Most common Hamlet words:\", Counter.most_common(counts_hamlet, 100))\n",
    "print()\n",
    "print(\"Most common Faustus words:\", Counter.most_common(counts_faustus, 100))\n",
    "print()\n",
    "print(\"Most common John Carter words:\", Counter.most_common(counts_mars, 100))"
   ]
  },
  {
   "cell_type": "markdown",
   "metadata": {
    "id": "GfRvTCwLzSU7"
   },
   "source": [
    "**Exercise.**\n",
    "The code below uses `import collections` instead of `from collections import Counter`.\n",
    "As you can test for yourself, the code now produces various errors.\n",
    "Fix the code so that the cell runs correctly.\n",
    "You must not change the `import` statement."
   ]
  },
  {
   "cell_type": "code",
   "execution_count": null,
   "metadata": {
    "id": "cvLRIWgazSU7"
   },
   "outputs": [],
   "source": [
    "import collections\n",
    "\n",
    "# construct the counters\n",
    "counts_hamlet = Counter(hamlet)\n",
    "counts_faustus = Counter(faustus)\n",
    "counts_mars = Counter(mars)\n",
    "\n",
    "print(\"Most common Hamlet words:\", Counter.most_common(counts_hamlet, 100))\n",
    "print()\n",
    "print(\"Most common Faustus words:\", Counter.most_common(counts_faustus, 100))\n",
    "print()\n",
    "print(\"Most common John Carter words:\", Counter.most_common(counts_mars, 100))"
   ]
  },
  {
   "cell_type": "markdown",
   "metadata": {
    "id": "xkBMKxhfzSU7"
   },
   "source": [
    "Python's output for `Counter.most_common` doesn't look too bad, but it is a bit convoluted.\n",
    "We can use the function `pprint` from the `pprint` library to have each word on its own line.\n",
    "The name *pprint* is short for *pretty-print*."
   ]
  },
  {
   "cell_type": "code",
   "execution_count": null,
   "metadata": {
    "id": "nsBd_2yxzSU7"
   },
   "outputs": [],
   "source": [
    "from pprint import pprint  # we want to use pprint instead of pprint.pprint\n",
    "from collections import Counter\n",
    "\n",
    "# construct the counters\n",
    "counts_hamlet = Counter(hamlet)\n",
    "counts_faustus = Counter(faustus)\n",
    "counts_mars = Counter(mars)\n",
    "\n",
    "# we have to split lines now because pprint cannot take multiple arguments like print\n",
    "print(\"Most common Hamlet words:\")\n",
    "pprint(Counter.most_common(counts_hamlet, 100))\n",
    "print()\n",
    "print(\"Most common Faustus words:\")\n",
    "pprint(Counter.most_common(counts_faustus, 100))\n",
    "print()\n",
    "print(\"Most common John Carter words:\")\n",
    "pprint(Counter.most_common(counts_mars, 100))"
   ]
  },
  {
   "cell_type": "markdown",
   "metadata": {
    "id": "E4UEP9w7zSU7"
   },
   "source": [
    "**Exercise.**\n",
    "What is the difference between the following two pieces of code?\n",
    "How do they differ in their output, and why?"
   ]
  },
  {
   "cell_type": "code",
   "execution_count": 19,
   "metadata": {
    "colab": {
     "base_uri": "https://localhost:8080/"
    },
    "id": "lUQc_Hj0zSU7",
    "outputId": "30cdc34b-284f-4917-dd25-f59b62cb3181"
   },
   "outputs": [
    {
     "name": "stdout",
     "output_type": "stream",
     "text": [
      "Counter({'in': 4, 'the': 4, 'of': 4, 'where': 2, 'nor': 2, 'not': 1, 'marching': 1, 'fields': 1, 'thrasymene': 1, 'mars': 1, 'did': 1, 'mate': 1, 'warlike': 1, 'carthagens': 1, 'sporting': 1, 'dalliance': 1, 'love': 1, 'courts': 1, 'kings': 1, 'state': 1, 'is': 1, 'overturn': 1, 'd': 1, 'pomp': 1, 'proud': 1, 'audacious': 1, 'deeds': 1, 'intends': 1, 'our': 1, 'muse': 1, 'to': 1, 'vaunt': 1, 'her': 1, 'heavenly': 1, 'verse': 1, 'only': 1, 'this': 1, 'gentles': 1, 'we': 1})\n"
     ]
    }
   ],
   "source": [
    "from collections import Counter\n",
    "\n",
    "counts = Counter(hamlet[:50])\n",
    "print(counts)"
   ]
  },
  {
   "cell_type": "code",
   "execution_count": 20,
   "metadata": {
    "colab": {
     "base_uri": "https://localhost:8080/"
    },
    "id": "-6dGfBJezSU7",
    "outputId": "d89e3592-9bdf-4bb6-dacd-b28a1f0ab508"
   },
   "outputs": [
    {
     "name": "stdout",
     "output_type": "stream",
     "text": [
      "[('and', 509), ('the', 501), ('i', 400), ('of', 338), ('to', 333), ('that', 226), ('a', 212), ('in', 189), ('me', 187), ('faustus', 181), ('you', 176), ('my', 169), ('for', 161), ('thou', 154), ('d', 152), ('this', 146), ('not', 139), ('be', 137), ('is', 136), ('his', 134), ('with', 134), ('s', 117), ('what', 116), ('but', 114), ('it', 104), ('we', 98), ('will', 98), ('have', 97), ('all', 96), ('he', 93), ('as', 93), ('him', 92), ('now', 90), ('o', 85), ('thee', 79), ('shall', 78), ('then', 77), ('ll', 77), ('come', 76), ('your', 74), ('so', 72), ('are', 70), ('do', 67), ('thy', 66), ('see', 60), ('hell', 58), ('no', 54), ('on', 54), ('or', 51), ('may', 50)]\n"
     ]
    }
   ],
   "source": [
    "from collections import Counter\n",
    "\n",
    "count = Counter(hamlet)\n",
    "print(Counter.most_common(count, 50))"
   ]
  },
  {
   "cell_type": "markdown",
   "metadata": {
    "id": "ejKIPswfzSU7"
   },
   "source": [
    "## A problem\n",
    "\n",
    "If you look at the lists of 100 most common words for each text, you'll notice that they are fairly similar.\n",
    "For instance, all of them have *a*, *the*, and *to* among the most frequent ones.\n",
    "That's not a peculiarity of these few texts, it's a general property of English texts.\n",
    "This is because of **Zipf's law**: ranking words by their frequency, the n-th word will have a relative frequency of 1/n.\n",
    "So the most common word is twice as frequent as the second most common one, three times more frequent than the third most common one, and so on.\n",
    "As a result, a handful of words make up over 50% of all words in a text.\n",
    "\n",
    "Zipf's law means that word frequencies in a text give rise to a peculiar shape that we might call the Zipf dinosaur.\n",
    "\n",
    "\n",
    "A super-high neck, followed by a very long tail.\n",
    "For English texts, the distribution usually resembles the one below, and that's even though this graph only shows the most common words.\n",
    "\n",
    "\n"
   ]
  },
  {
   "cell_type": "code",
   "execution_count": 16,
   "metadata": {
    "colab": {
     "base_uri": "https://localhost:8080/",
     "height": 336
    },
    "id": "nhyUqgK97f3q",
    "outputId": "43d9337e-78db-4ee7-8a0d-2ecc5e7167ba"
   },
   "outputs": [
    {
     "data": {
      "text/html": [
       "<iframe width=\"560\" height=\"315\" src=\"https://www.youtube.com/embed/fCn8zs912OE\"  frameborder=\"0\" allowfullscreen></iframe>"
      ],
      "text/plain": [
       "<IPython.core.display.HTML object>"
      ]
     },
     "execution_count": 16,
     "metadata": {
      "tags": []
     },
     "output_type": "execute_result"
    }
   ],
   "source": [
    "from IPython.display import HTML\n",
    "\n",
    "# Youtube\n",
    "HTML('<iframe width=\"560\" height=\"315\" src=\"https://www.youtube.com/embed/fCn8zs912OE\"  frameborder=\"0\" allowfullscreen></iframe>')\n"
   ]
  },
  {
   "cell_type": "markdown",
   "metadata": {
    "id": "5s7HUQsQ7o06"
   },
   "source": [
    "There is precious little variation between English texts with respect to which words are at the top.\n",
    "These common but uninformative words are called **stop words**.\n",
    "If we want to find any interesting differences between *Hamlet*, *Doctor Faustus*, and *Princess of Mars*, we have to filter out all these stop words.\n",
    "That's not something we can do by hand, but our existing box of tricks doesn't really seem to fit either.\n",
    "We could use a regular expression to delete all these words from the string before it even gets tokenized.\n",
    "But that's not the best solution:\n",
    "\n",
    "1. A minor mistake in the regular expression might accidentally delete many things we want to keep.\n",
    "   Odds are that this erroneous deletion would go unnoticed, possibly invalidating our stylistic analysis.\n",
    "1. There's hundreds of stop words, so the regular expression would be very long.\n",
    "   Ideally, our code should be compact and easy to read.\n",
    "   A super-long regular expression is the opposite of that, and it's no fun to type either.\n",
    "   And of course, the longer a regular expression, the higher the chance that you make a typo (which takes us back to point 1).\n",
    "1. While regular expressions are fast, they are not as fast as most of the operations Python can perform on lists and counters.\n",
    "   If there is an easy alternative to a regular expression, that alternative is worth exploring.\n",
    "\n",
    "Alright, so if regexes aren't the best solution, what's the alternative?\n",
    "Why, it's simple: 0."
   ]
  },
  {
   "cell_type": "markdown",
   "metadata": {
    "id": "RWu5BuVkzSU7"
   },
   "source": [
    "## Changing counts\n",
    "\n",
    "The values in a Python counter can be changed very easily."
   ]
  },
  {
   "cell_type": "code",
   "execution_count": 17,
   "metadata": {
    "colab": {
     "base_uri": "https://localhost:8080/"
    },
    "id": "A2-NLvq6zSU7",
    "outputId": "10fef7d1-a53c-4d17-926c-8953b34652bc"
   },
   "outputs": [
    {
     "name": "stdout",
     "output_type": "stream",
     "text": [
      "Counter({'said': 2, 'that': 2, 'John': 1, 'Mary': 1, 'Bill': 1, 'stinks': 1})\n",
      "Counter({'said': 2, 'John': 1, 'Mary': 1, 'Bill': 1, 'stinks': 1, 'that': 0})\n"
     ]
    }
   ],
   "source": [
    "from collections import Counter\n",
    "from pprint import pprint\n",
    "\n",
    "# define a test counter and show its values\n",
    "test = Counter([\"John\", \"said\", \"that\", \"Mary\", \"said\", \"that\", \"Bill\", \"stinks\"])\n",
    "pprint(test)\n",
    "\n",
    "# 'that' is a stop word; set its count to 0\n",
    "test[\"that\"] = 0\n",
    "pprint(test)"
   ]
  },
  {
   "cell_type": "markdown",
   "metadata": {
    "id": "l8i-Tkv6zSU7"
   },
   "source": [
    "The code above uses the new notation `test['that']`.\n",
    "\n",
    "Counters are a subclass of dictionaries, so `test[\"that\"]` points to the value for `\"that\"` in the counter `test`.\n",
    "We also say that `\"that\"` is a **key** that points to a specific **value**.\n",
    "The line\n",
    "\n",
    "```python\n",
    "test[\"that\"] = 0\n",
    "```\n",
    "\n",
    "intstructs Python to set the value for the key `\"that\"` to `0`."
   ]
  },
  {
   "cell_type": "markdown",
   "metadata": {
    "id": "Twy4-pFBzSU7"
   },
   "source": [
    "**Exercise.**\n",
    "Look at the code cell below.\n",
    "For each line, add a comment that briefly describes what it does (for instance, *set value of 'that' to 0*).\n",
    "If the line causes an error, fix the error and add two commments:\n",
    "\n",
    "1. What caused the error?\n",
    "1. What does the corrected line do?\n",
    "\n",
    "You might want to use `pprint` to look at how the counter changes after each line."
   ]
  },
  {
   "cell_type": "code",
   "execution_count": 18,
   "metadata": {
    "colab": {
     "base_uri": "https://localhost:8080/",
     "height": 232
    },
    "id": "mmNFM7AQzSU7",
    "outputId": "71a31750-2d56-4251-8ef3-e90c318efa91"
   },
   "outputs": [
    {
     "ename": "NameError",
     "evalue": "ignored",
     "output_type": "error",
     "traceback": [
      "\u001b[0;31m---------------------------------------------------------------------------\u001b[0m",
      "\u001b[0;31mNameError\u001b[0m                                 Traceback (most recent call last)",
      "\u001b[0;32m<ipython-input-18-178ab52f20c4>\u001b[0m in \u001b[0;36m<module>\u001b[0;34m()\u001b[0m\n\u001b[1;32m      6\u001b[0m \u001b[0mtest\u001b[0m\u001b[0;34m[\u001b[0m\u001b[0;34m\"that\"\u001b[0m\u001b[0;34m]\u001b[0m \u001b[0;34m=\u001b[0m \u001b[0;36m0\u001b[0m  \u001b[0;31m# set value of 'that' to 0\u001b[0m\u001b[0;34m\u001b[0m\u001b[0;34m\u001b[0m\u001b[0m\n\u001b[1;32m      7\u001b[0m \u001b[0mtest\u001b[0m\u001b[0;34m[\u001b[0m\u001b[0;34m\"Mary\"\u001b[0m\u001b[0;34m]\u001b[0m \u001b[0;34m=\u001b[0m \u001b[0mtest\u001b[0m\u001b[0;34m[\u001b[0m\u001b[0;34m\"that\"\u001b[0m\u001b[0;34m]\u001b[0m\u001b[0;34m\u001b[0m\u001b[0;34m\u001b[0m\u001b[0m\n\u001b[0;32m----> 8\u001b[0;31m \u001b[0mtest\u001b[0m\u001b[0;34m[\u001b[0m\u001b[0mJohn\u001b[0m\u001b[0;34m]\u001b[0m \u001b[0;34m=\u001b[0m \u001b[0;36m10\u001b[0m\u001b[0;34m\u001b[0m\u001b[0;34m\u001b[0m\u001b[0m\n\u001b[0m\u001b[1;32m      9\u001b[0m \u001b[0mtest\u001b[0m\u001b[0;34m[\u001b[0m\u001b[0;34m\"said\"\u001b[0m\u001b[0;34m]\u001b[0m \u001b[0;34m=\u001b[0m \u001b[0mtest\u001b[0m\u001b[0;34m[\u001b[0m\u001b[0;34m\"John' - 'said\"\u001b[0m\u001b[0;34m]\u001b[0m\u001b[0;34m\u001b[0m\u001b[0;34m\u001b[0m\u001b[0m\n\u001b[1;32m     10\u001b[0m \u001b[0mtest\u001b[0m\u001b[0;34m[\u001b[0m\u001b[0;34m\"really\"\u001b[0m\u001b[0;34m]\u001b[0m \u001b[0;34m=\u001b[0m \u001b[0;36m0\u001b[0m\u001b[0;34m\u001b[0m\u001b[0;34m\u001b[0m\u001b[0m\n",
      "\u001b[0;31mNameError\u001b[0m: name 'John' is not defined"
     ]
    }
   ],
   "source": [
    "from collections import Counter\n",
    "\n",
    "# define a test counter and show its values\n",
    "test = Counter([\"John\", \"said\", \"that\", \"Mary\", \"said\", \"that\", \"Bill\", \"stinks\"])\n",
    "\n",
    "test[\"that\"] = 0  # set value of 'that' to 0\n",
    "test[\"Mary\"] = test[\"that\"]\n",
    "test[John] = 10\n",
    "test[\"said\"] = test[\"John' - 'said\"]\n",
    "test[\"really\"] = 0"
   ]
  },
  {
   "cell_type": "markdown",
   "metadata": {
    "id": "85JFA-LszSU7"
   },
   "source": [
    "Since we can change the values of keys in counters, stop words become very easy to deal with.\n",
    "Recall that the problem with stop words is not so much that they occur in the counter, but that they make up the large majority of high frequency words.\n",
    "Our intended fix was to delete them from the counter.\n",
    "But instead, we can just set the count of each stop word to 0.\n",
    "Then every stop word is still technically contained by the counter, but since its frequency is 0 it will no longer show up among the most common words, which is what we really care about.\n",
    "\n",
    "Alright, let's do that."
   ]
  },
  {
   "cell_type": "markdown",
   "metadata": {
    "id": "D7didwYYzSU7"
   },
   "source": [
    "**Exercise.**\n",
    "Together with this notebook you found a figure which shows you the most common stop words of English (except for *whale*, you can ignore that one).\n",
    "Extend the code below so that the count for each one of the stop words listed in the figure is set to 0.\n",
    "Compare the output before and after stop word removal and ask yourself whether there has been significant progress."
   ]
  },
  {
   "cell_type": "code",
   "execution_count": null,
   "metadata": {
    "id": "lesEIVMjzSU7"
   },
   "outputs": [],
   "source": [
    "from collections import Counter\n",
    "\n",
    "# construct the counters\n",
    "counts_hamlet = Counter(hamlet)\n",
    "# output with stop words\n",
    "print(\"Most common Hamlet words before clean-up:\\n\", Counter.most_common(counts_hamlet, 25))\n",
    "\n",
    "# set stop word counts to 0\n",
    "# put your code here\n",
    "\n",
    "# output without stop words\n",
    "print(\"Most common Hamlet words after clean-up:\\n\", Counter.most_common(counts_hamlet, 25))"
   ]
  },
  {
   "cell_type": "markdown",
   "metadata": {
    "id": "W5bijSDYzSU7"
   },
   "source": [
    "Okay, this is an improvement, but it's really tedious.\n",
    "You have to write the same code over and over again, changing only the key.\n",
    "And you aren't even done yet, there's still many more stop words to be removed.\n",
    "But don't despair, you don't have to add another 100 lines of code.\n",
    "No, repetitive tasks like that are exactly why programming languages have **`for` loops**."
   ]
  },
  {
   "cell_type": "markdown",
   "metadata": {
    "id": "8c5nXqM3zSU8"
   },
   "source": [
    "With a `for`-loop, setting the counts of stop words to 0 becomes a matter of just a few lines."
   ]
  },
  {
   "cell_type": "code",
   "execution_count": 21,
   "metadata": {
    "id": "kl4B-VTQzSU8"
   },
   "outputs": [],
   "source": [
    "from collections import Counter\n",
    "\n",
    "# construct the counters\n",
    "counts_hamlet = Counter(hamlet)\n",
    "counts_faustus = Counter(faustus)\n",
    "counts_mars = Counter(mars)\n",
    "\n",
    "stopwords = [\"the\", \"of\", \"and\", \"a\", \"to\", \"in\",\n",
    "             \"that\", \"his\", \"it\", \"he\", \"but\", \"as\",\n",
    "             \"is\", \"with\", \"was\", \"for\", \"all\", \"this\",\n",
    "             \"at\", \"while\", \"by\", \"not\", \"from\", \"him\",\n",
    "             \"so\", \"be\", \"one\", \"you\", \"there\", \"now\",\n",
    "             \"had\", \"have\", \"or\", \"were\", \"they\", \"which\",\n",
    "             \"like\"]\n",
    "\n",
    "for word in stopwords:\n",
    "    counts_hamlet[word] = 0\n",
    "    counts_faustus[word] = 0\n",
    "    counts_mars[word] = 0"
   ]
  },
  {
   "cell_type": "markdown",
   "metadata": {
    "id": "y2B4nDw-zSU8"
   },
   "source": [
    "Okay, now we can finally compare the three texts based on their unigram counts.\n",
    "You can use the `Counter.most_common` function to see which words are most common in each text.\n",
    "We can also compare the overall frequency distribution.\n",
    "The code below will plot the counters, giving you a graphical representation of the frequency distribution, similar to the Zipf figures above.\n",
    "\n",
    "(Don't worry about what any of the code below does.\n",
    "Just run the cell and look at the pretty output.)"
   ]
  },
  {
   "cell_type": "code",
   "execution_count": 23,
   "metadata": {
    "colab": {
     "base_uri": "https://localhost:8080/",
     "height": 1000
    },
    "id": "Njq1zo6DzSU8",
    "outputId": "ddd33f87-ec7e-40e4-94e9-9311a3bf9ebf"
   },
   "outputs": [
    {
     "data": {
      "image/png": "[encoded data removed]",
      "text/plain": [
       "<Figure size 1440x720 with 1 Axes>"
      ]
     },
     "metadata": {
      "needs_background": "light",
      "tags": []
     },
     "output_type": "display_data"
    },
    {
     "data": {
      "image/png": "[encoded data removed]",
      "text/plain": [
       "<Figure size 432x288 with 1 Axes>"
      ]
     },
     "metadata": {
      "needs_background": "light",
      "tags": []
     },
     "output_type": "display_data"
    },
    {
     "data": {
      "image/png": "[encoded data removed]",
      "text/plain": [
       "<Figure size 432x288 with 1 Axes>"
      ]
     },
     "metadata": {
      "needs_background": "light",
      "tags": []
     },
     "output_type": "display_data"
    }
   ],
   "source": [
    "%matplotlib inline\n",
    "\n",
    "# import relevant matplotlib code\n",
    "import matplotlib.pyplot as plt\n",
    "\n",
    "# figsize(20, 10)\n",
    "plt.figure(figsize=(20,10))\n",
    "# the lines above are needed for Jupyter to display the plots in your browser\n",
    "# do not remove them\n",
    "\n",
    "# a little bit of preprocessing so that the data is ordered by frequency\n",
    "def plot_preprocess(the_counter, n):\n",
    "    \"\"\"format data for plotting n most common items\"\"\"\n",
    "    sorted_list = sorted(the_counter.items(), key=lambda x: x[1], reverse=True)[:n]\n",
    "    words, counts = zip(*sorted_list)\n",
    "    return words, counts\n",
    "\n",
    "\n",
    "for text in [counts_hamlet, counts_faustus, counts_mars]:\n",
    "    # you can change the max words value to look at more or fewer words in one plot\n",
    "    max_words = 10\n",
    "    words = plot_preprocess(text, max_words)[0]\n",
    "    counts = plot_preprocess(text, max_words)[1]\n",
    "    plt.bar(range(len(counts)), counts, align=\"center\")\n",
    "    plt.xticks(range(len(words)), words)\n",
    "    plt.show()"
   ]
  },
  {
   "cell_type": "markdown",
   "metadata": {
    "id": "xYmdGy8tzSU8"
   },
   "source": [
    "So there you have it.\n",
    "Your first, fairly simple quantitative analysis of writing style.\n",
    "You can compare the three texts among several dimensions:\n",
    "\n",
    "1. What are the most common words in each text?\n",
    "1. Are the distributions very different?\n",
    "   Perhaps one of them keeps repeating the same words over and over, whereas another author varies their vocabulary more and thus has a smoother curve that's not as much tilted towards the left?\n",
    "   "
   ]
  },
  {
   "cell_type": "code",
   "execution_count": null,
   "metadata": {
    "id": "sYaXPVIw-Hx4"
   },
   "outputs": [],
   "source": []
  }
 ],
 "metadata": {
  "colab": {
   "name": "01_TextAnalysis_basic.ipynb",
   "provenance": []
  },
  "kernelspec": {
   "display_name": "Python 3",
   "language": "python",
   "name": "python3"
  },
  "language_info": {
   "codemirror_mode": {
    "name": "ipython",
    "version": 3
   },
   "file_extension": ".py",
   "mimetype": "text/x-python",
   "name": "python",
   "nbconvert_exporter": "python",
   "pygments_lexer": "ipython3",
   "version": "3.8.5"
  }
 },
 "nbformat": 4,
 "nbformat_minor": 1
}
