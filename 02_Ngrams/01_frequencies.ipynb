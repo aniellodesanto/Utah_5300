{
  "cells": [
    {
      "cell_type": "markdown",
      "source": [
        "<div style=\"text-align: right\">\n",
        "    <i>\n",
        "        LIN 5300<br>\n",
        "        Spring 2022 <br>\n",
        "        Aniello De Santo\n",
        "    </i>\n",
        "</div>\n"
      ],
      "metadata": {
        "id": "IUqxF8tVSov0"
      }
    },
    {
      "cell_type": "code",
      "source": [
        "from google.colab import files\n",
        "from collections import Counter\n",
        "from pprint import pprint  \n",
        "import re"
      ],
      "metadata": {
        "id": "zdioV4R6HrER"
      },
      "execution_count": 29,
      "outputs": []
    },
    {
      "cell_type": "markdown",
      "metadata": {
        "id": "0UcG19eWHMJd"
      },
      "source": [
        "# From counts to probabilities and bigram models\n",
        "\n",
        "In the previous notebook we have played around with ways to obtain counts for words, and do some basic pre-processing.\n",
        "But it would still be nice to get a few other metrics, such as\n",
        "\n",
        "1. the frequencies of word types rather than their total counts (this makes it easier to compare different texts since 50 mentions of \"buletic\" in a 1000-page novel doesn't have the same weight as 50 mentions in a 1000-word essay),\n",
        "2. Frequencies of bigrams (or ngrams)\n",
        "3. Use counts information to get an MLE of conditional probabilites\n",
        "\n",
        "\n",
        "Before we continue, though, we once again have to run all the relevant code to get counts for our texts *Hamlet* and *Princess of Mars*."
      ]
    },
    {
      "cell_type": "code",
      "source": [
        "#Import files (this code is specific to reading files into Colab)\n",
        "# Be sure to upload the file matching the variable name\n",
        "\n",
        "hamlet = files.upload()\n",
        "hamlet_full  = hamlet['hamlet_clean.txt'].decode('utf-8')\n",
        "\n",
        "\n",
        "mars = files.upload()\n",
        "mars_full = mars['mars_clean.txt'].decode('utf-8')\n",
        "\n"
      ],
      "metadata": {
        "colab": {
          "resources": {
            "http://localhost:8080/nbextensions/google.colab/files.js": {
              "data": "Ly8gQ29weXJpZ2h0IDIwMTcgR29vZ2xlIExMQwovLwovLyBMaWNlbnNlZCB1bmRlciB0aGUgQXBhY2hlIExpY2Vuc2UsIFZlcnNpb24gMi4wICh0aGUgIkxpY2Vuc2UiKTsKLy8geW91IG1heSBub3QgdXNlIHRoaXMgZmlsZSBleGNlcHQgaW4gY29tcGxpYW5jZSB3aXRoIHRoZSBMaWNlbnNlLgovLyBZb3UgbWF5IG9idGFpbiBhIGNvcHkgb2YgdGhlIExpY2Vuc2UgYXQKLy8KLy8gICAgICBodHRwOi8vd3d3LmFwYWNoZS5vcmcvbGljZW5zZXMvTElDRU5TRS0yLjAKLy8KLy8gVW5sZXNzIHJlcXVpcmVkIGJ5IGFwcGxpY2FibGUgbGF3IG9yIGFncmVlZCB0byBpbiB3cml0aW5nLCBzb2Z0d2FyZQovLyBkaXN0cmlidXRlZCB1bmRlciB0aGUgTGljZW5zZSBpcyBkaXN0cmlidXRlZCBvbiBhbiAiQVMgSVMiIEJBU0lTLAovLyBXSVRIT1VUIFdBUlJBTlRJRVMgT1IgQ09ORElUSU9OUyBPRiBBTlkgS0lORCwgZWl0aGVyIGV4cHJlc3Mgb3IgaW1wbGllZC4KLy8gU2VlIHRoZSBMaWNlbnNlIGZvciB0aGUgc3BlY2lmaWMgbGFuZ3VhZ2UgZ292ZXJuaW5nIHBlcm1pc3Npb25zIGFuZAovLyBsaW1pdGF0aW9ucyB1bmRlciB0aGUgTGljZW5zZS4KCi8qKgogKiBAZmlsZW92ZXJ2aWV3IEhlbHBlcnMgZm9yIGdvb2dsZS5jb2xhYiBQeXRob24gbW9kdWxlLgogKi8KKGZ1bmN0aW9uKHNjb3BlKSB7CmZ1bmN0aW9uIHNwYW4odGV4dCwgc3R5bGVBdHRyaWJ1dGVzID0ge30pIHsKICBjb25zdCBlbGVtZW50ID0gZG9jdW1lbnQuY3JlYXRlRWxlbWVudCgnc3BhbicpOwogIGVsZW1lbnQudGV4dENvbnRlbnQgPSB0ZXh0OwogIGZvciAoY29uc3Qga2V5IG9mIE9iamVjdC5rZXlzKHN0eWxlQXR0cmlidXRlcykpIHsKICAgIGVsZW1lbnQuc3R5bGVba2V5XSA9IHN0eWxlQXR0cmlidXRlc1trZXldOwogIH0KICByZXR1cm4gZWxlbWVudDsKfQoKLy8gTWF4IG51bWJlciBvZiBieXRlcyB3aGljaCB3aWxsIGJlIHVwbG9hZGVkIGF0IGEgdGltZS4KY29uc3QgTUFYX1BBWUxPQURfU0laRSA9IDEwMCAqIDEwMjQ7CgpmdW5jdGlvbiBfdXBsb2FkRmlsZXMoaW5wdXRJZCwgb3V0cHV0SWQpIHsKICBjb25zdCBzdGVwcyA9IHVwbG9hZEZpbGVzU3RlcChpbnB1dElkLCBvdXRwdXRJZCk7CiAgY29uc3Qgb3V0cHV0RWxlbWVudCA9IGRvY3VtZW50LmdldEVsZW1lbnRCeUlkKG91dHB1dElkKTsKICAvLyBDYWNoZSBzdGVwcyBvbiB0aGUgb3V0cHV0RWxlbWVudCB0byBtYWtlIGl0IGF2YWlsYWJsZSBmb3IgdGhlIG5leHQgY2FsbAogIC8vIHRvIHVwbG9hZEZpbGVzQ29udGludWUgZnJvbSBQeXRob24uCiAgb3V0cHV0RWxlbWVudC5zdGVwcyA9IHN0ZXBzOwoKICByZXR1cm4gX3VwbG9hZEZpbGVzQ29udGludWUob3V0cHV0SWQpOwp9CgovLyBUaGlzIGlzIHJvdWdobHkgYW4gYXN5bmMgZ2VuZXJhdG9yIChub3Qgc3VwcG9ydGVkIGluIHRoZSBicm93c2VyIHlldCksCi8vIHdoZXJlIHRoZXJlIGFyZSBtdWx0aXBsZSBhc3luY2hyb25vdXMgc3RlcHMgYW5kIHRoZSBQeXRob24gc2lkZSBpcyBnb2luZwovLyB0byBwb2xsIGZvciBjb21wbGV0aW9uIG9mIGVhY2ggc3RlcC4KLy8gVGhpcyB1c2VzIGEgUHJvbWlzZSB0byBibG9jayB0aGUgcHl0aG9uIHNpZGUgb24gY29tcGxldGlvbiBvZiBlYWNoIHN0ZXAsCi8vIHRoZW4gcGFzc2VzIHRoZSByZXN1bHQgb2YgdGhlIHByZXZpb3VzIHN0ZXAgYXMgdGhlIGlucHV0IHRvIHRoZSBuZXh0IHN0ZXAuCmZ1bmN0aW9uIF91cGxvYWRGaWxlc0NvbnRpbnVlKG91dHB1dElkKSB7CiAgY29uc3Qgb3V0cHV0RWxlbWVudCA9IGRvY3VtZW50LmdldEVsZW1lbnRCeUlkKG91dHB1dElkKTsKICBjb25zdCBzdGVwcyA9IG91dHB1dEVsZW1lbnQuc3RlcHM7CgogIGNvbnN0IG5leHQgPSBzdGVwcy5uZXh0KG91dHB1dEVsZW1lbnQubGFzdFByb21pc2VWYWx1ZSk7CiAgcmV0dXJuIFByb21pc2UucmVzb2x2ZShuZXh0LnZhbHVlLnByb21pc2UpLnRoZW4oKHZhbHVlKSA9PiB7CiAgICAvLyBDYWNoZSB0aGUgbGFzdCBwcm9taXNlIHZhbHVlIHRvIG1ha2UgaXQgYXZhaWxhYmxlIHRvIHRoZSBuZXh0CiAgICAvLyBzdGVwIG9mIHRoZSBnZW5lcmF0b3IuCiAgICBvdXRwdXRFbGVtZW50Lmxhc3RQcm9taXNlVmFsdWUgPSB2YWx1ZTsKICAgIHJldHVybiBuZXh0LnZhbHVlLnJlc3BvbnNlOwogIH0pOwp9CgovKioKICogR2VuZXJhdG9yIGZ1bmN0aW9uIHdoaWNoIGlzIGNhbGxlZCBiZXR3ZWVuIGVhY2ggYXN5bmMgc3RlcCBvZiB0aGUgdXBsb2FkCiAqIHByb2Nlc3MuCiAqIEBwYXJhbSB7c3RyaW5nfSBpbnB1dElkIEVsZW1lbnQgSUQgb2YgdGhlIGlucHV0IGZpbGUgcGlja2VyIGVsZW1lbnQuCiAqIEBwYXJhbSB7c3RyaW5nfSBvdXRwdXRJZCBFbGVtZW50IElEIG9mIHRoZSBvdXRwdXQgZGlzcGxheS4KICogQHJldHVybiB7IUl0ZXJhYmxlPCFPYmplY3Q+fSBJdGVyYWJsZSBvZiBuZXh0IHN0ZXBzLgogKi8KZnVuY3Rpb24qIHVwbG9hZEZpbGVzU3RlcChpbnB1dElkLCBvdXRwdXRJZCkgewogIGNvbnN0IGlucHV0RWxlbWVudCA9IGRvY3VtZW50LmdldEVsZW1lbnRCeUlkKGlucHV0SWQpOwogIGlucHV0RWxlbWVudC5kaXNhYmxlZCA9IGZhbHNlOwoKICBjb25zdCBvdXRwdXRFbGVtZW50ID0gZG9jdW1lbnQuZ2V0RWxlbWVudEJ5SWQob3V0cHV0SWQpOwogIG91dHB1dEVsZW1lbnQuaW5uZXJIVE1MID0gJyc7CgogIGNvbnN0IHBpY2tlZFByb21pc2UgPSBuZXcgUHJvbWlzZSgocmVzb2x2ZSkgPT4gewogICAgaW5wdXRFbGVtZW50LmFkZEV2ZW50TGlzdGVuZXIoJ2NoYW5nZScsIChlKSA9PiB7CiAgICAgIHJlc29sdmUoZS50YXJnZXQuZmlsZXMpOwogICAgfSk7CiAgfSk7CgogIGNvbnN0IGNhbmNlbCA9IGRvY3VtZW50LmNyZWF0ZUVsZW1lbnQoJ2J1dHRvbicpOwogIGlucHV0RWxlbWVudC5wYXJlbnRFbGVtZW50LmFwcGVuZENoaWxkKGNhbmNlbCk7CiAgY2FuY2VsLnRleHRDb250ZW50ID0gJ0NhbmNlbCB1cGxvYWQnOwogIGNvbnN0IGNhbmNlbFByb21pc2UgPSBuZXcgUHJvbWlzZSgocmVzb2x2ZSkgPT4gewogICAgY2FuY2VsLm9uY2xpY2sgPSAoKSA9PiB7CiAgICAgIHJlc29sdmUobnVsbCk7CiAgICB9OwogIH0pOwoKICAvLyBXYWl0IGZvciB0aGUgdXNlciB0byBwaWNrIHRoZSBmaWxlcy4KICBjb25zdCBmaWxlcyA9IHlpZWxkIHsKICAgIHByb21pc2U6IFByb21pc2UucmFjZShbcGlja2VkUHJvbWlzZSwgY2FuY2VsUHJvbWlzZV0pLAogICAgcmVzcG9uc2U6IHsKICAgICAgYWN0aW9uOiAnc3RhcnRpbmcnLAogICAgfQogIH07CgogIGNhbmNlbC5yZW1vdmUoKTsKCiAgLy8gRGlzYWJsZSB0aGUgaW5wdXQgZWxlbWVudCBzaW5jZSBmdXJ0aGVyIHBpY2tzIGFyZSBub3QgYWxsb3dlZC4KICBpbnB1dEVsZW1lbnQuZGlzYWJsZWQgPSB0cnVlOwoKICBpZiAoIWZpbGVzKSB7CiAgICByZXR1cm4gewogICAgICByZXNwb25zZTogewogICAgICAgIGFjdGlvbjogJ2NvbXBsZXRlJywKICAgICAgfQogICAgfTsKICB9CgogIGZvciAoY29uc3QgZmlsZSBvZiBmaWxlcykgewogICAgY29uc3QgbGkgPSBkb2N1bWVudC5jcmVhdGVFbGVtZW50KCdsaScpOwogICAgbGkuYXBwZW5kKHNwYW4oZmlsZS5uYW1lLCB7Zm9udFdlaWdodDogJ2JvbGQnfSkpOwogICAgbGkuYXBwZW5kKHNwYW4oCiAgICAgICAgYCgke2ZpbGUudHlwZSB8fCAnbi9hJ30pIC0gJHtmaWxlLnNpemV9IGJ5dGVzLCBgICsKICAgICAgICBgbGFzdCBtb2RpZmllZDogJHsKICAgICAgICAgICAgZmlsZS5sYXN0TW9kaWZpZWREYXRlID8gZmlsZS5sYXN0TW9kaWZpZWREYXRlLnRvTG9jYWxlRGF0ZVN0cmluZygpIDoKICAgICAgICAgICAgICAgICAgICAgICAgICAgICAgICAgICAgJ24vYSd9IC0gYCkpOwogICAgY29uc3QgcGVyY2VudCA9IHNwYW4oJzAlIGRvbmUnKTsKICAgIGxpLmFwcGVuZENoaWxkKHBlcmNlbnQpOwoKICAgIG91dHB1dEVsZW1lbnQuYXBwZW5kQ2hpbGQobGkpOwoKICAgIGNvbnN0IGZpbGVEYXRhUHJvbWlzZSA9IG5ldyBQcm9taXNlKChyZXNvbHZlKSA9PiB7CiAgICAgIGNvbnN0IHJlYWRlciA9IG5ldyBGaWxlUmVhZGVyKCk7CiAgICAgIHJlYWRlci5vbmxvYWQgPSAoZSkgPT4gewogICAgICAgIHJlc29sdmUoZS50YXJnZXQucmVzdWx0KTsKICAgICAgfTsKICAgICAgcmVhZGVyLnJlYWRBc0FycmF5QnVmZmVyKGZpbGUpOwogICAgfSk7CiAgICAvLyBXYWl0IGZvciB0aGUgZGF0YSB0byBiZSByZWFkeS4KICAgIGxldCBmaWxlRGF0YSA9IHlpZWxkIHsKICAgICAgcHJvbWlzZTogZmlsZURhdGFQcm9taXNlLAogICAgICByZXNwb25zZTogewogICAgICAgIGFjdGlvbjogJ2NvbnRpbnVlJywKICAgICAgfQogICAgfTsKCiAgICAvLyBVc2UgYSBjaHVua2VkIHNlbmRpbmcgdG8gYXZvaWQgbWVzc2FnZSBzaXplIGxpbWl0cy4gU2VlIGIvNjIxMTU2NjAuCiAgICBsZXQgcG9zaXRpb24gPSAwOwogICAgZG8gewogICAgICBjb25zdCBsZW5ndGggPSBNYXRoLm1pbihmaWxlRGF0YS5ieXRlTGVuZ3RoIC0gcG9zaXRpb24sIE1BWF9QQVlMT0FEX1NJWkUpOwogICAgICBjb25zdCBjaHVuayA9IG5ldyBVaW50OEFycmF5KGZpbGVEYXRhLCBwb3NpdGlvbiwgbGVuZ3RoKTsKICAgICAgcG9zaXRpb24gKz0gbGVuZ3RoOwoKICAgICAgY29uc3QgYmFzZTY0ID0gYnRvYShTdHJpbmcuZnJvbUNoYXJDb2RlLmFwcGx5KG51bGwsIGNodW5rKSk7CiAgICAgIHlpZWxkIHsKICAgICAgICByZXNwb25zZTogewogICAgICAgICAgYWN0aW9uOiAnYXBwZW5kJywKICAgICAgICAgIGZpbGU6IGZpbGUubmFtZSwKICAgICAgICAgIGRhdGE6IGJhc2U2NCwKICAgICAgICB9LAogICAgICB9OwoKICAgICAgbGV0IHBlcmNlbnREb25lID0gZmlsZURhdGEuYnl0ZUxlbmd0aCA9PT0gMCA/CiAgICAgICAgICAxMDAgOgogICAgICAgICAgTWF0aC5yb3VuZCgocG9zaXRpb24gLyBmaWxlRGF0YS5ieXRlTGVuZ3RoKSAqIDEwMCk7CiAgICAgIHBlcmNlbnQudGV4dENvbnRlbnQgPSBgJHtwZXJjZW50RG9uZX0lIGRvbmVgOwoKICAgIH0gd2hpbGUgKHBvc2l0aW9uIDwgZmlsZURhdGEuYnl0ZUxlbmd0aCk7CiAgfQoKICAvLyBBbGwgZG9uZS4KICB5aWVsZCB7CiAgICByZXNwb25zZTogewogICAgICBhY3Rpb246ICdjb21wbGV0ZScsCiAgICB9CiAgfTsKfQoKc2NvcGUuZ29vZ2xlID0gc2NvcGUuZ29vZ2xlIHx8IHt9OwpzY29wZS5nb29nbGUuY29sYWIgPSBzY29wZS5nb29nbGUuY29sYWIgfHwge307CnNjb3BlLmdvb2dsZS5jb2xhYi5fZmlsZXMgPSB7CiAgX3VwbG9hZEZpbGVzLAogIF91cGxvYWRGaWxlc0NvbnRpbnVlLAp9Owp9KShzZWxmKTsK",
              "ok": true,
              "headers": [
                [
                  "content-type",
                  "application/javascript"
                ]
              ],
              "status": 200,
              "status_text": ""
            }
          },
          "base_uri": "https://localhost:8080/",
          "height": 39
        },
        "id": "o182kTVCH4Ar",
        "outputId": "5079f806-c2fd-4bc7-e471-b0259495e7b4"
      },
      "execution_count": null,
      "outputs": [
        {
          "output_type": "display_data",
          "data": {
            "text/html": [
              "\n",
              "     <input type=\"file\" id=\"files-73781f6e-2516-4138-aea9-89a08b448fdf\" name=\"files[]\" multiple disabled\n",
              "        style=\"border:none\" />\n",
              "     <output id=\"result-73781f6e-2516-4138-aea9-89a08b448fdf\">\n",
              "      Upload widget is only available when the cell has been executed in the\n",
              "      current browser session. Please rerun this cell to enable.\n",
              "      </output>\n",
              "      <script src=\"/nbextensions/google.colab/files.js\"></script> "
            ],
            "text/plain": [
              "<IPython.core.display.HTML object>"
            ]
          },
          "metadata": {}
        }
      ]
    },
    {
      "cell_type": "code",
      "execution_count": 3,
      "metadata": {
        "collapsed": true,
        "id": "--l3sVZxHMJf"
      },
      "outputs": [],
      "source": [
        "def tokenize(the_string):\n",
        "    \"\"\"Convert string to list of words\"\"\"\n",
        "    return re.findall(r\"\\w+\", the_string)\n",
        "\n",
        "\n",
        "# define a variable for each token list\n",
        "hamlet = Counter(tokenize(hamlet_full))\n",
        "mars = Counter(tokenize(mars_full))\n"
      ]
    },
    {
      "cell_type": "markdown",
      "metadata": {
        "id": "nxNI5pR7HMJf"
      },
      "source": [
        "## Calculating frequencies\n",
        "\n",
        "The frequency of a word indicates how many percent of a text are taken up by its tokens.\n",
        "For example, if a word type has 6 tokens in a text of 1000 words, then its frequency is $\\frac{6}{1000} = 0.006 = 0.6\\%$.\n",
        "So we get the frequency of a word *w* by dividing the count of *w* by the total number of tokens in the text.\n",
        "\n",
        "We already have many of the tools that are needed to calculate frequencies:\n",
        "\n",
        "1. a counter for each tokenized text, and\n",
        "1. `for`-loops, and\n",
        "1. the `len`-function, and\n",
        "1. the `sum`-function, and\n",
        "1. the usage of keys such as `[x]` to get the value of a specific item `x` in a counter."
      ]
    },
    {
      "cell_type": "markdown",
      "metadata": {
        "id": "u0mcM-2kHMJg"
      },
      "source": [
        "We can recombine these techniques to define a custom function for computing word frequencies.\n",
        "\n",
        "First, we will need to determine the total number of tokens in the text.\n",
        "But we already know how to do that with `sum` and `Counter.values`.\n",
        "Once we know the total, we can calculate the frequency of a word type by dividing its number of tokens by `total`.\n",
        "Let us put the relevant code for these steps into a function that prints the frequency of every word type."
      ]
    },
    {
      "cell_type": "code",
      "execution_count": 12,
      "metadata": {
        "id": "yZSG1ap-HMJg"
      },
      "outputs": [],
      "source": [
        "def frequencies(word_counter):\n",
        "    \"\"\"print frequency for each word type in counter\"\"\"\n",
        "    total = sum(Counter.values(word_counter))\n",
        "    # calculate frequencies for all the words in the counter\n",
        "    for current_word in word_counter:\n",
        "        number_of_tokens = word_counter[current_word]\n",
        "        frequency = number_of_tokens / total\n",
        "        print(current_word, frequency)"
      ]
    },
    {
      "cell_type": "code",
      "source": [
        "# We let's test it of we want\n",
        "# But be warned that it is going to be a long (in terms of screen space) print\n",
        "\n",
        "frequencies(hamlet)"
      ],
      "metadata": {
        "id": "jhJHbM_ZJL2S"
      },
      "execution_count": null,
      "outputs": []
    },
    {
      "cell_type": "markdown",
      "metadata": {
        "id": "G8Y-hsWpHMJh"
      },
      "source": [
        "### Adding frequencies to the counter\n",
        "\n",
        "The `frequencie` function is still somewhat unsatisfying in that it prints the frequency of each word type.\n",
        "Printing to screen isn't very useful most of the time, in particular with tens of thousands of words.\n",
        "It would be better if we could simply replace the absolute values in the counter by frequencies.\n",
        "This is actually fairly easy.\n",
        "The `[x]` notation is not only useful for retrieving the value of an element, it also allows us to **specify** the value of an element."
      ]
    },
    {
      "cell_type": "code",
      "execution_count": null,
      "metadata": {
        "id": "sZhMOKFkHMJi",
        "outputId": "ccd26cf3-cefc-418c-bd47-8d493dc183d8"
      },
      "outputs": [
        {
          "name": "stdout",
          "output_type": "stream",
          "text": [
            "Counter({'a': 6, 'b': 4, 'c': 2})\n",
            "a's current value: 6\n",
            "a's new value: 0.1\n",
            "d was added with count: 10\n",
            "The new counter is: Counter({'d': 10, 'b': 4, 'c': 2, 'a': 0.1})\n"
          ]
        }
      ],
      "source": [
        "# define our test counter\n",
        "test = Counter([\"a\", \"a\", \"a\", \"a\", \"a\", \"a\", \"b\", \"b\", \"b\", \"b\", \"c\", \"c\"])\n",
        "print(test)\n",
        "\n",
        "# let's change the value of \"a\";\n",
        "# here's what it is right now\n",
        "print(\"a's current value:\", test[\"a\"])\n",
        "# and now we'll change it to 0.1\n",
        "test[\"a\"] = 0.1\n",
        "print(\"a's new value:\", test[\"a\"])\n",
        "\n",
        "# and now we add a new element \"d\" to the counter\n",
        "test[\"d\"] = 10\n",
        "print(\"d was added with count:\", test[\"d\"])\n",
        "print(\"The new counter is:\", test)"
      ]
    },
    {
      "cell_type": "markdown",
      "metadata": {
        "id": "cjrop-jBHMJj"
      },
      "source": [
        "Now we can finalize the `frequencies` function.\n",
        "Instead of printing the frequency of `current_word`, the function should override the value of `current_word` in `word_counter` with `frequency`.\n",
        "At the end, the function returns `word_counter`.\n",
        "You can test your code in the second cell.\n",
        "The results should be `0.t` for `a`, `0.3333` for `b`, and `0.1666` for `c`."
      ]
    },
    {
      "cell_type": "code",
      "execution_count": 17,
      "metadata": {
        "collapsed": true,
        "id": "ibApK6fZHMJj"
      },
      "outputs": [],
      "source": [
        "# change and complete the code below\n",
        "\n",
        "def frequencies(word_counter):\n",
        "    # add an updated docstring here\n",
        "    total = sum(Counter.values(word_counter))\n",
        "    for current_word in word_counter:\n",
        "        number_of_tokens = word_counter[current_word]\n",
        "        frequency = number_of_tokens / total\n",
        "        word_counter[current_word] = frequency  # this part needs to change\n",
        "    return word_counter"
      ]
    },
    {
      "cell_type": "code",
      "execution_count": 18,
      "metadata": {
        "colab": {
          "base_uri": "https://localhost:8080/"
        },
        "id": "qV3J83FVHMJj",
        "outputId": "91ae72f3-d41a-47dd-8aeb-9fc153c8ba00"
      },
      "outputs": [
        {
          "output_type": "stream",
          "name": "stdout",
          "text": [
            "Counter({'a': 6, 'b': 4, 'c': 2})\n",
            "Counter({'a': 0.5, 'b': 0.3333333333333333, 'c': 0.16666666666666666})\n"
          ]
        }
      ],
      "source": [
        "# test your code here\n",
        "test_counts = Counter([\"a\", \"a\", \"a\", \"a\", \"a\", \"a\", \"b\", \"b\", \"b\", \"b\", \"c\", \"c\"])\n",
        "print(test_counts)\n",
        "\n",
        "test_frequency = frequencies(test_counts)\n",
        "print(test_frequency)"
      ]
    },
    {
      "cell_type": "markdown",
      "metadata": {
        "id": "8QDW3GDyHMJj"
      },
      "source": [
        "### An unintended side-effect\n",
        "\n",
        "Let us run the test one more time, with just a minor change in the order of the `print`-statements.\n",
        "Now we first compute `test_frequency` and the print `test_counts` and `test_frequency`."
      ]
    },
    {
      "cell_type": "code",
      "execution_count": 19,
      "metadata": {
        "colab": {
          "base_uri": "https://localhost:8080/"
        },
        "id": "_Xnv58fBHMJk",
        "outputId": "ffcc26b9-6e5d-444e-e0c0-26c72de66ab5"
      },
      "outputs": [
        {
          "output_type": "stream",
          "name": "stdout",
          "text": [
            "Counter({'a': 0.5, 'b': 0.3333333333333333, 'c': 0.16666666666666666})\n",
            "Counter({'a': 0.5, 'b': 0.3333333333333333, 'c': 0.16666666666666666})\n"
          ]
        }
      ],
      "source": [
        "# test your code here\n",
        "test_counts = Counter([\"a\", \"a\", \"a\", \"a\", \"a\", \"a\", \"b\", \"b\", \"b\", \"b\", \"c\", \"c\"])\n",
        "test_frequency = frequencies(test_counts)\n",
        "\n",
        "print(test_counts)\n",
        "print(test_frequency)"
      ]
    },
    {
      "cell_type": "markdown",
      "metadata": {
        "id": "3DKmL7EQHMJk"
      },
      "source": [
        "Uhm, what's going on here?\n",
        "Why do `test_counts` and `test_frequency` look the same?\n",
        "Where did the absolute word counts go?\n",
        "\n",
        "The problem is with how we wrote the function `frequencies`.\n",
        "This is a function that takes a word counter as an argument and then **overwrites** the count of each word type with its frequency.\n",
        "So if we run `frequencies` over `test_counts`, all the values of `test_counts` are replaced by frequencies.\n",
        "That's not really what we want.\n",
        "Instead, we want to produce a copy of `test_counts` with frequencies while keeping the original version of `test_counts` untouched.\n",
        "We can create a copy of a counter with the function `Counter.copy`."
      ]
    },
    {
      "cell_type": "code",
      "execution_count": null,
      "metadata": {
        "id": "wYKHu8xpHMJk"
      },
      "outputs": [],
      "source": [
        "# test your code here\n",
        "test_counts = Counter([\"a\", \"a\", \"a\", \"a\", \"a\", \"a\", \"b\", \"b\", \"b\", \"b\", \"c\", \"c\"])\n",
        "test_frequency = frequencies(Counter.copy(test_counts))\n",
        "\n",
        "print(test_counts)\n",
        "print(test_frequency)"
      ]
    },
    {
      "cell_type": "markdown",
      "metadata": {
        "id": "XXXJ09JMHMJk"
      },
      "source": [
        "Now we now longer run `frequencies` on `test_counts`, but a dynamically created copy of `test_counts`.\n",
        "Hence the values of `test_counts` remain unaltered, and we get different outputs for `print` at the end."
      ]
    },
    {
      "cell_type": "markdown",
      "metadata": {
        "id": "U8stJWpHHMJk"
      },
      "source": [
        "**Python Practice.**\n",
        "Copy-paste your definition of the `frequencies` function into the cell below, then change it so that it always creates a copy `temp_copy` of `word_counter` at the beginning and then carries out all operations over `temp_copy` instead of `word_counter`.\n",
        "Then run the code in the next cell to verify that your new definition of `frequencies` works correctly."
      ]
    },
    {
      "cell_type": "code",
      "execution_count": null,
      "metadata": {
        "collapsed": true,
        "id": "VMo2QXrSHMJl"
      },
      "outputs": [],
      "source": [
        "# copy-paste your code for frequencies here, then modify it as described"
      ]
    },
    {
      "cell_type": "code",
      "execution_count": null,
      "metadata": {
        "id": "1fQ6oD34HMJl"
      },
      "outputs": [],
      "source": [
        "# test your code here\n",
        "test_counts = Counter([\"a\", \"a\", \"a\", \"a\", \"a\", \"a\", \"b\", \"b\", \"b\", \"b\", \"c\", \"c\"])\n",
        "test_frequency = frequencies(test_counts)\n",
        "\n",
        "print(test_counts)\n",
        "print(test_frequency)"
      ]
    },
    {
      "cell_type": "markdown",
      "source": [
        "Ok, we have now seen how to obtain unigram frequencies out of a corpus, and compare frequencies across corpora.\n",
        "\n",
        "Note that under MLE appraoch, we said that counts can approximate probabilities, so that $P(A)$ can be approximated by:\n",
        "\n",
        "<center> $\\large p(A) \\approx \\frac{count(A)}{\\sum_{w \\in V}count(w)}$ </center>\n",
        "\n",
        "So we now have a pythonic way of getting unigram probabilities out of a corpus. Can we extend this approach to n-grams?\n",
        "\n",
        "Well, first, we must obtain the n-grams! Let's work with bigrams.\n",
        "Many Python libraries can extract bigrams for us, but it is also fairly easy to do it from scratch."
      ],
      "metadata": {
        "id": "Xij_k77rLN-m"
      }
    },
    {
      "cell_type": "code",
      "source": [
        "#this function takes a list of words\n",
        "#and returns a list of bigrams\n",
        "\n",
        "def bigrammer(input_list):\n",
        "    bigram_list = []\n",
        "    for i in range(len(input_list)-1):\n",
        "        bigram_list.append((input_list[i], input_list[i+1]))\n",
        "    return bigram_list\n"
      ],
      "metadata": {
        "id": "10RsbI6HL11-"
      },
      "execution_count": 25,
      "outputs": []
    },
    {
      "cell_type": "code",
      "source": [
        "hamlet_bigrams = bigrammer(tokenize(hamlet_full))\n",
        "mars_bigrams = bigrammer(tokenize(mars_full))"
      ],
      "metadata": {
        "id": "VyV0NKqUMtbZ"
      },
      "execution_count": 26,
      "outputs": []
    },
    {
      "cell_type": "code",
      "source": [
        "#let's check what we got\n",
        "pprint(hamlet_bigrams[:10])\n",
        "pprint(mars_bigrams[:10])"
      ],
      "metadata": {
        "colab": {
          "base_uri": "https://localhost:8080/"
        },
        "id": "1J-bp5rPM2tk",
        "outputId": "01614412-dc72-4bc1-fa35-7e9f115ae6be"
      },
      "execution_count": 30,
      "outputs": [
        {
          "output_type": "stream",
          "name": "stdout",
          "text": [
            "[('enter', 'francisco'),\n",
            " ('francisco', 'and'),\n",
            " ('and', 'barnardo'),\n",
            " ('barnardo', 'two'),\n",
            " ('two', 'sentinels'),\n",
            " ('sentinels', 'barnardo'),\n",
            " ('barnardo', 'who'),\n",
            " ('who', 's'),\n",
            " ('s', 'there'),\n",
            " ('there', 'francisco')]\n",
            "[('i', 'am'),\n",
            " ('am', 'a'),\n",
            " ('a', 'very'),\n",
            " ('very', 'old'),\n",
            " ('old', 'man'),\n",
            " ('man', 'how'),\n",
            " ('how', 'old'),\n",
            " ('old', 'i'),\n",
            " ('i', 'do'),\n",
            " ('do', 'not')]\n"
          ]
        }
      ]
    },
    {
      "cell_type": "markdown",
      "source": [
        "**Question:** What do you think the reason is to want the bigrams as tuples and not a single string?"
      ],
      "metadata": {
        "id": "ULG-ikVCOBWp"
      }
    },
    {
      "cell_type": "markdown",
      "source": [
        " # Computing Conditional Probabilities\n",
        " \n",
        "Recall that a conditional probability $P(B | A)$ is a measure that allows us to estimate how many of our observations of $B$ occur having already seen $A$.\n",
        "We can compute it using an MLE approach.\n",
        "\n",
        "We have already seen that $p(A)$ can be approximated by:\n",
        "\n",
        "<center> $\\large p(A) \\approx \\frac{count(A)}{\\sum_{w \\in V}count(w)}$ </center>\n",
        "\n",
        "In the previous lecture, we then saw that we can also directly approximate $P(B | A)$ as:\n",
        "\n",
        "<center> $\\large p(A) \\approx \\frac{count(A,B)}{\\sum_{w \\in V}count(A)}$ </center>\n",
        "\n"
      ],
      "metadata": {
        "id": "nlE4ZHFwON0q"
      }
    },
    {
      "cell_type": "code",
      "source": [
        "# Let's get bigram counts\n",
        "hamlet_bgcounts = Counter(hamlet_bigrams)"
      ],
      "metadata": {
        "id": "R-wmHn5lPrPk"
      },
      "execution_count": 36,
      "outputs": []
    },
    {
      "cell_type": "code",
      "source": [
        "def conditional(bg_counter,word_counter):\n",
        "    \"Obtain Conditional bigram probabilites according to MLE\"\n",
        "    bg_counter = Counter.copy(bg_counter)\n",
        "    for current_bg in bg_counter:\n",
        "        number_of_tokens = bg_counter[current_bg]\n",
        "        cond_prob = number_of_tokens / word_counter[current_bg[0]]\n",
        "        bg_counter[current_bg] = cond_prob\n",
        "    return bg_counter"
      ],
      "metadata": {
        "id": "Goz7qLAnQAoQ"
      },
      "execution_count": 34,
      "outputs": []
    },
    {
      "cell_type": "markdown",
      "source": [
        ""
      ],
      "metadata": {
        "id": "6l9sxZLUSmI6"
      }
    },
    {
      "cell_type": "code",
      "source": [
        "# Let's test it\n",
        " test_conditional = conditional(hamlet_bgcounts,hamlet)"
      ],
      "metadata": {
        "id": "rZlWSshoRZKk"
      },
      "execution_count": 37,
      "outputs": []
    },
    {
      "cell_type": "markdown",
      "source": [
        "**Python practice.** Now test the fucntion by printing the conditional probabilities for the first 15 bigrams in hamlet.\n"
      ],
      "metadata": {
        "id": "Hygfsg6rRmWW"
      }
    },
    {
      "cell_type": "code",
      "source": [
        ""
      ],
      "metadata": {
        "id": "a8izmrFfSUFz"
      },
      "execution_count": null,
      "outputs": []
    }
  ],
  "metadata": {
    "kernelspec": {
      "display_name": "Python 3",
      "language": "python",
      "name": "python3"
    },
    "language_info": {
      "codemirror_mode": {
        "name": "ipython",
        "version": 3
      },
      "file_extension": ".py",
      "mimetype": "text/x-python",
      "name": "python",
      "nbconvert_exporter": "python",
      "pygments_lexer": "ipython3",
      "version": "3.8.5"
    },
    "colab": {
      "name": "01_frequencies.ipynb",
      "provenance": [],
      "collapsed_sections": []
    }
  },
  "nbformat": 4,
  "nbformat_minor": 0
}