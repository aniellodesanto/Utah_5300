{
 "cells": [
  {
   "cell_type": "markdown",
   "metadata": {},
   "source": [
    "<div style=\"text-align: right\">\n",
    "    <i>\n",
    "        LIN 5300<br>\n",
    "        Spring 2022 <br>\n",
    "        Aniello De Santo\n",
    "    </i>\n",
    "</div>\n",
    "\n",
    "# Regular Expressions\n",
    "\n",
    "This notebook focuses on working with regular expressions in Python using the `re` library."
   ]
  },
  {
   "cell_type": "markdown",
   "metadata": {},
   "source": [
    "## Why Regular Expressions\n",
    "\n",
    "Regular expressions let you search for patterns in text, or replace patterns in text:\n",
    "\n",
    "* Find words that end in \"ion\", and remove that ending\n",
    "* Find duplicate letters in tweets, like \"soo\", \"sooo\", \"sooooo\"\n",
    "* Find all smileys: :)  ;-)  :(  :-(  ;-) :-o :-{ \n",
    "* Find and remove \"@someone\" tags in tweets\n",
    "\n",
    "\n",
    "You might have already used regular expressions without realizing it.\n",
    "For example, if you have a black belt in Google-fu then you know that you can enter `\"smashing .* pumpkins\"` to match any website that contains the words *Smashing* and *Pumpkins* in this order, possibly with other material inbetween.\n",
    "That would of course include websites that talk about the *The Smashing Pumpkins*, but it also includes variations like *smashing rotten pumpkins*, *Smashing ABC Pumpkins*, and *Smashing Marilyn and Pumpkins Manson* (those are actual Google hits).\n",
    "\n",
    "You can also use regular expressions when you search for a book in a library catalog, or even with a word processor to find specific patterns.\n",
    "\n",
    "When working with large corpora (collections of text), regular expressions turn out to be increadibly useful. This notebook will show you some of the things we can do with them.\n",
    "\n",
    "Note that the notebook presupposes you have already watched the related theory lecture.\n",
    "Additonally, this is a good video tutorial walking you through the main intuitions behind Regex: https://www.youtube.com/watch?v=7DG3kCDx53c"
   ]
  },
  {
   "cell_type": "markdown",
   "metadata": {},
   "source": [
    "## Working with Regular expressions"
   ]
  },
  {
   "cell_type": "markdown",
   "metadata": {},
   "source": [
    "In order to work with regexes through the Python interface, let's import the `re` library.\n",
    "Run the cell below. Careful: if you start the notebook again you need to run it again, otherwise the rest of the code will not work!"
   ]
  },
  {
   "cell_type": "code",
   "execution_count": 1,
   "metadata": {},
   "outputs": [],
   "source": [
    "#Import the package re\n",
    "#re contains most of the python commands we will used with regular expressions\n",
    "import re"
   ]
  },
  {
   "cell_type": "markdown",
   "metadata": {},
   "source": [
    "## Kleene star\n",
    "\n",
    "The basic concept introducing infinity in regular expressions is **Klenee star**.\n",
    "It is denoted as `*`, and it simply means \"arbitrary instances of the preceding symbol\".\n",
    "Here and further in the notebook, I'll be using `\"\"` to denote an empty string.\n",
    "\n",
    "    RegEx:  a*\n",
    "    Matched Strings: \"\", a, aa, aaa, aaaaa, ..., aaaaaaaaaaaaaaaaaaaaaaaaaaaaaaaaaa, ...\n",
    "    \n",
    "### Function `re.search`\n",
    "    \n",
    "The function `re.search` searches for the first substring that correspond to a given regular expressions within the given string. It returns a _match object_ if matching substrings were detected, and `None` otherwise.\n",
    "\n",
    "    re.search(r\"regex\", r\"string\")\n",
    "    \n",
    "This fucntion has two *arguments*: the  `regex` argument is the patters we are searching for, the `string` si the string we are running the search over.\n",
    "Note the `r` before the strings: it means \"raw string\". As you will see, there are characters that have special meaning to regular expressions, and to avoid any confusion, it is easier to work with raw strings.\n",
    "However, note that `r` in the second argument can be omitted (e.g. when working with variables or input from the user)."
   ]
  },
  {
   "cell_type": "code",
   "execution_count": 2,
   "metadata": {},
   "outputs": [
    {
     "name": "stdout",
     "output_type": "stream",
     "text": [
      "<re.Match object; span=(0, 5), match='aaaaa'>\n"
     ]
    }
   ],
   "source": [
    "print(re.search(r\"a*\", r\"aaaaa\"))"
   ]
  },
  {
   "cell_type": "markdown",
   "metadata": {},
   "source": [
    "Indeed, a string \"aaaaa\" can be matched by the regular expression $a^{*}$. Search returns a match object that *spans* the whole string: from position 0 to position 4."
   ]
  },
  {
   "cell_type": "code",
   "execution_count": 3,
   "metadata": {},
   "outputs": [
    {
     "name": "stdout",
     "output_type": "stream",
     "text": [
      "<re.Match object; span=(0, 4), match='aaaa'>\n"
     ]
    }
   ],
   "source": [
    "print(re.search(r\"a*\", r\"aaaabaa\"))"
   ]
  },
  {
   "cell_type": "markdown",
   "metadata": {},
   "source": [
    "The string \"aaaabaa\" contains $2$ substrings that can be matched by a regular expression $a^{*}$: \"**aaaa**baa\" and \"aaaab**aa**\", but `re.search` only looks for the first appropriate match, therefore the span that was detected is `span=(0, 4)`.\n",
    "\n",
    "The values of `span` can be extracted in the following manner:"
   ]
  },
  {
   "cell_type": "code",
   "execution_count": 5,
   "metadata": {},
   "outputs": [
    {
     "name": "stdout",
     "output_type": "stream",
     "text": [
      "(0, 4)\n"
     ]
    }
   ],
   "source": [
    "matched_object = re.search(r\"a*\", r\"aaaabaa\")\n",
    "span = matched_object.span()\n",
    "print(span)"
   ]
  },
  {
   "cell_type": "markdown",
   "metadata": {},
   "source": [
    "To extract the matched substring, we need to apply `.group(0)` to the matched object."
   ]
  },
  {
   "cell_type": "code",
   "execution_count": 6,
   "metadata": {
    "scrolled": true
   },
   "outputs": [
    {
     "name": "stdout",
     "output_type": "stream",
     "text": [
      "aaaa\n"
     ]
    }
   ],
   "source": [
    "match = matched_object.group(0)\n",
    "print(match)"
   ]
  },
  {
   "cell_type": "markdown",
   "metadata": {},
   "source": [
    "As a sidenote, Python allows for \"unpacking\" of the values and multiple variable definitions on a single line."
   ]
  },
  {
   "cell_type": "code",
   "execution_count": 7,
   "metadata": {
    "scrolled": true
   },
   "outputs": [
    {
     "name": "stdout",
     "output_type": "stream",
     "text": [
      "Start: 0\n",
      "End:   4\n"
     ]
    }
   ],
   "source": [
    "start, end = span[0], span[1]\n",
    "print(\"Start:\", start)\n",
    "print(\"End:  \", end)"
   ]
  },
  {
   "cell_type": "markdown",
   "metadata": {},
   "source": [
    "What we did there is to create two variables (start and end), and save the first index of the span in Start, and the second index in end.\n",
    "\n",
    "Consider now a string that does NOT match a pattern."
   ]
  },
  {
   "cell_type": "code",
   "execution_count": 2,
   "metadata": {},
   "outputs": [
    {
     "name": "stdout",
     "output_type": "stream",
     "text": [
      "<re.Match object; span=(0, 0), match=''>\n"
     ]
    }
   ],
   "source": [
    "print(re.search(r\"a*\", r\"ccccb\"))"
   ]
  },
  {
   "cell_type": "markdown",
   "metadata": {},
   "source": [
    "The span this time is empty!"
   ]
  },
  {
   "cell_type": "markdown",
   "metadata": {},
   "source": [
    "**Practice:** write a search expression detecting checking for every string if it contains the pattern `a*`.\n",
    "\n",
    "    String:  \"aaaaa\"\n",
    "        \n",
    "    String:  \"abaaaa\"\n",
    "    \n",
    "    String:  \"bbbbba\"\n",
    "    \n",
    "    String:  \"bbbb\""
   ]
  },
  {
   "cell_type": "code",
   "execution_count": null,
   "metadata": {},
   "outputs": [],
   "source": [
    "#write your code here"
   ]
  },
  {
   "cell_type": "markdown",
   "metadata": {},
   "source": [
    "### Function `re.findall`\n",
    "\n",
    "If all matching substrings are required, we can use `re.findall`. This returns _all_ matching substrings.\n",
    "\n",
    "    re.findall(r\"regex\", r\"string\")"
   ]
  },
  {
   "cell_type": "code",
   "execution_count": 8,
   "metadata": {},
   "outputs": [
    {
     "name": "stdout",
     "output_type": "stream",
     "text": [
      "['ab', 'ab', 'ab']\n"
     ]
    }
   ],
   "source": [
    "print(re.findall(r\"ab\", r\"aaabbbababa\"))"
   ]
  },
  {
   "cell_type": "markdown",
   "metadata": {},
   "source": [
    "This time, the results are returned in an object called *a list*.\n",
    "You can recognize lists because they are delimited by square brakets.\n",
    "Each element in a list is separated by a comma, and can be accessed by its index (like elements in a string)."
   ]
  },
  {
   "cell_type": "code",
   "execution_count": 4,
   "metadata": {},
   "outputs": [
    {
     "name": "stdout",
     "output_type": "stream",
     "text": [
      "['ab', 'ab', 'ab']\n",
      "ab\n"
     ]
    }
   ],
   "source": [
    "# we same the result of findall in a list\n",
    "test_list = re.findall(r\"ab\", r\"aaabbbababa\")\n",
    "\n",
    "#we print the full list\n",
    "print(test_list)\n",
    "\n",
    "#we print the first element in the list\n",
    "print(test_list[0])"
   ]
  },
  {
   "cell_type": "markdown",
   "metadata": {},
   "source": [
    "**Question:** explain the output of the following function call."
   ]
  },
  {
   "cell_type": "code",
   "execution_count": 6,
   "metadata": {},
   "outputs": [
    {
     "name": "stdout",
     "output_type": "stream",
     "text": [
      "['aaaa', '', 'aa', '']\n"
     ]
    }
   ],
   "source": [
    "print(re.findall(r\"a*\",r\"aaaabaa\"))"
   ]
  },
  {
   "cell_type": "code",
   "execution_count": 19,
   "metadata": {},
   "outputs": [
    {
     "name": "stdout",
     "output_type": "stream",
     "text": [
      "<re.Match object; span=(0, 4), match='cacb'>\n"
     ]
    }
   ],
   "source": [
    "print(re.search(r\"(a*c*)*b\",r\"cacb\"))"
   ]
  },
  {
   "cell_type": "code",
   "execution_count": 8,
   "metadata": {},
   "outputs": [
    {
     "name": "stdout",
     "output_type": "stream",
     "text": [
      "['aaaa', 'aa']\n"
     ]
    }
   ],
   "source": [
    "print(re.findall(rx,r\"aaaabaa\"))"
   ]
  },
  {
   "cell_type": "code",
   "execution_count": 28,
   "metadata": {},
   "outputs": [
    {
     "name": "stdout",
     "output_type": "stream",
     "text": [
      "['test']\n"
     ]
    }
   ],
   "source": [
    "x = 'test'\n",
    "print(re.findall(r\"test\",x))"
   ]
  },
  {
   "cell_type": "code",
   "execution_count": 3,
   "metadata": {},
   "outputs": [
    {
     "name": "stdout",
     "output_type": "stream",
     "text": [
      "['', '', '', '', 'b', '', '', '']\n"
     ]
    }
   ],
   "source": [
    "print(re.findall(r\"b*\", r\"aaaabaa\"))"
   ]
  },
  {
   "cell_type": "markdown",
   "metadata": {},
   "source": [
    "So far we saw the application of the Kleene star to only a single symbol. In order to match repeating substrings, we need to put that substring in the parethesis. For example, see the contrast:"
   ]
  },
  {
   "cell_type": "code",
   "execution_count": 15,
   "metadata": {},
   "outputs": [
    {
     "name": "stdout",
     "output_type": "stream",
     "text": [
      "['ab', '', '', '', '']\n"
     ]
    }
   ],
   "source": [
    "print(re.findall(r\"(ab)*\", r\"abababbbb\"))"
   ]
  },
  {
   "cell_type": "code",
   "execution_count": null,
   "metadata": {},
   "outputs": [],
   "source": [
    "print(re.search(r\"ab*\", r\"abababbbb\"))"
   ]
  },
  {
   "cell_type": "markdown",
   "metadata": {},
   "source": [
    "In the first case, the first match is `ababab`, i.e. it is a string \"ab\" that is repeating.\n",
    "In the second case, however, the first match is simply `ab`, because the regular expression $ab^{*}$ is matching any number of \"b\" preceded by an \"a\"."
   ]
  },
  {
   "cell_type": "markdown",
   "metadata": {},
   "source": [
    "## Kleene plus\n",
    "\n",
    "The Kleene star matches _any_ number of the given substring, from $0$ to any $n$.\n",
    "**Kleene plus** matches the given substring $1$ or more times.\n",
    "\n",
    "    Grammar:  (ab)*\n",
    "    Matched strings: \"\", ab, abab, ababab, ababababab...\n",
    "    \n",
    "    Grammar:  (ab)+\n",
    "    Matched strings: ab, abab, ababab, ababababab..."
   ]
  },
  {
   "cell_type": "code",
   "execution_count": null,
   "metadata": {},
   "outputs": [],
   "source": [
    "print(re.search(r\"(ab)*\", r\"\"))"
   ]
  },
  {
   "cell_type": "code",
   "execution_count": null,
   "metadata": {},
   "outputs": [],
   "source": [
    "print(re.search(r\"(ab)+\", r\"\"))"
   ]
  },
  {
   "cell_type": "markdown",
   "metadata": {},
   "source": [
    "**Practice 1:** simplify the following regular expression: `ab(ab)*`.\n",
    "\n",
    "**Practice 2:** for the following regular expressions, say if the given strings are fully matched by them.\n",
    "\n",
    "    Regular expression:  a*b*a*\n",
    "    Strings:             \"\", aaaaa, bbbb, aaabbbbb, aabaaa, aaabbbabbb, bbbaa, bab\n",
    "    \n",
    "    Regular expression:  a*b+a*\n",
    "    Strings:             \"\", aaaaa, bbbb, aaabbbbb, aabaaa, aaabbbabbb, bbbaa, bab\n",
    "    \n",
    "    Regular expression:  (a*b*)*\n",
    "    Strings:             \"\", aabb, aaabbb, aabbaaaabbbb, bbbb, baaaaa, bababbabb\n",
    "    \n",
    "    Regular expression:  (a+b*)*\n",
    "    Strings:             \"\", aabb, aaabbb, aabbaaaabbbb, bbbb, baaaaa, bababbabb\n",
    "    \n",
    "    Regular expression:  (a+c*b+)+\n",
    "    Strings:             \"\", ab, abab, aaaacc, bbba, aaabbbabbbb, aabbbbbcbbb\n",
    "    \n",
    "    Regular expression:  (a*c*b+)+\n",
    "    Strings:             \"\", ab, abab, aaaacc, bbba, aaabbbabbbb, aabbbbbcbbb\n",
    "    \n",
    "**Practice 3:** come up with a regex describing the following two string-sets. Test it in the following cells.\n",
    "\n",
    "    Language 1:  \"\", abbc, bbbcc, ccc, acc, abbccc...\n",
    "    Language 2:  abccc, a, abcbcccc, abbb, abbbccc..."
   ]
  },
  {
   "cell_type": "code",
   "execution_count": null,
   "metadata": {},
   "outputs": [],
   "source": [
    "lang_1 = [\"\", \"abbc\", \"bbbcc\", \"ccc\", \"acc\", \"abbccc\"]\n",
    "for s in lang_1:\n",
    "    print(re.search(r\"REGEX\", s))"
   ]
  },
  {
   "cell_type": "code",
   "execution_count": null,
   "metadata": {},
   "outputs": [],
   "source": [
    "lang_2 = [\"abccc\", \"a\", \"abcbcccc\", \"abbb\", \"abbbccc\", \"abcbcbc\"]\n",
    "for s in lang_2:\n",
    "    print(re.search(r\"REGEX\", s))"
   ]
  },
  {
   "cell_type": "markdown",
   "metadata": {},
   "source": [
    "### Optional Matching \n",
    "\n",
    "What if we want a single expression to match one among multiple characters?\n",
    "We could write multiple separate expressions, one for each character. But this is far from efficient.\n",
    "Instead, we can list a seres of characters for the expression to mtch separately, by enclosing them in square parenthesis:\n",
    "\n",
    "    r\"...[abc]...\"\n",
    "    \n",
    "The regular expression above will match \"a\", \"b\" or \"c\"."
   ]
  },
  {
   "cell_type": "code",
   "execution_count": 43,
   "metadata": {},
   "outputs": [
    {
     "name": "stdout",
     "output_type": "stream",
     "text": [
      "<re.Match object; span=(2, 8), match='maaaan'>\n",
      "<re.Match object; span=(0, 0), match=''>\n"
     ]
    }
   ],
   "source": [
    "print(re.search(r\"m[ae]*n\", r\"womaaaan\"))\n",
    "print(re.search(r\"\\**\", r\"wom*n\"))"
   ]
  },
  {
   "cell_type": "code",
   "execution_count": 36,
   "metadata": {},
   "outputs": [
    {
     "name": "stdout",
     "output_type": "stream",
     "text": [
      "None\n",
      "None\n",
      "<re.Match object; span=(2, 5), match='men'>\n"
     ]
    }
   ],
   "source": [
    "print(re.search(r\"m[a*e*]n\", r\"womaeaeaeaen\"))\n",
    "print(re.search(r\"m[a*e*]n\", r\"womaaaeeen\"))\n",
    "print(re.search(r\"m[ae]n\", r\"women\"))"
   ]
  },
  {
   "cell_type": "markdown",
   "metadata": {},
   "source": [
    "If you need to match a set of characters containing some range of digits of alphabet symbols, these ranges can be provided in a shortcut way: `[1-7]`, `[a-z]` or `[A-D]`."
   ]
  },
  {
   "cell_type": "code",
   "execution_count": null,
   "metadata": {},
   "outputs": [],
   "source": [
    "print(re.findall(r\"[1-5]\", r\"1945\"))"
   ]
  },
  {
   "cell_type": "code",
   "execution_count": 46,
   "metadata": {},
   "outputs": [
    {
     "name": "stdout",
     "output_type": "stream",
     "text": [
      "['a', 'b', 'c', '1', '4', '5']\n"
     ]
    }
   ],
   "source": [
    "print(re.findall(r\"[1-5a-z]\", r\"abc1945\"))"
   ]
  },
  {
   "cell_type": "code",
   "execution_count": 53,
   "metadata": {},
   "outputs": [
    {
     "name": "stdout",
     "output_type": "stream",
     "text": [
      "['1a9b4c5']\n",
      "['.']\n",
      "[',,,,']\n",
      "['    ']\n"
     ]
    }
   ],
   "source": [
    "print(re.findall(r\".+\", r\"1a9b4c5\"))\n",
    "print(re.findall(r\".+\", r\".\"))\n",
    "print(re.findall(r\".+\", r\",,,,\"))\n",
    "print(re.findall(r\".+\", r\"    \"))"
   ]
  },
  {
   "cell_type": "markdown",
   "metadata": {},
   "source": [
    "Of course, Kleene star or plus can be applied to any set of symbols:"
   ]
  },
  {
   "cell_type": "code",
   "execution_count": null,
   "metadata": {},
   "outputs": [],
   "source": [
    "print(re.findall(r\"[0-9]+\", r\"It repeated 518305 times!\"))"
   ]
  },
  {
   "cell_type": "markdown",
   "metadata": {},
   "source": [
    "Note that these lists are case-sensitive:"
   ]
  },
  {
   "cell_type": "code",
   "execution_count": null,
   "metadata": {},
   "outputs": [],
   "source": [
    "print(re.findall(r\"[a-z]\", r\"ABBA\"))\n",
    "print(re.findall(r\"[A-Z]\", r\"ABBA\"))"
   ]
  },
  {
   "cell_type": "markdown",
   "metadata": {},
   "source": [
    "If we want to perform matches without case-sensitivity, we can add one more argument to the function `re.findall`. This argument is `re.I`, a short form for `re.IGNORECASE`."
   ]
  },
  {
   "cell_type": "code",
   "execution_count": null,
   "metadata": {},
   "outputs": [],
   "source": [
    "print(re.findall(r\"[a-z]\", r\"ABBA\", re.I))\n",
    "print(re.findall(r\"[A-Z]\", r\"ABBA\"))"
   ]
  },
  {
   "cell_type": "markdown",
   "metadata": {},
   "source": [
    "### Anchors: Matching the beginning/end of string\n",
    "\n",
    "If we want to make sure that the regular expression is not only contained within the string we are searching, but rather describes the whole string, we can surround the regex with the following two symbols:\n",
    "\n",
    "  * `^` marks the beginning of the string;\n",
    "  * `$` marks the end of the string. \n",
    "  \n",
    "Of course, these two symbols can be used separately as well in order to match the beginning or the end of the string."
   ]
  },
  {
   "cell_type": "code",
   "execution_count": null,
   "metadata": {},
   "outputs": [],
   "source": [
    "print(re.search(r\"m[ae]n\", r\"woman\"))\n",
    "print(re.search(r\"^m[ae]n$\", r\"woman\"))\n",
    "print(re.search(r\"m[ae]n$\", r\"woman\"))"
   ]
  },
  {
   "cell_type": "markdown",
   "metadata": {},
   "source": [
    "### Any character `.`\n",
    "\n",
    "A dot `.` stands for _any character_."
   ]
  },
  {
   "cell_type": "code",
   "execution_count": null,
   "metadata": {},
   "outputs": [],
   "source": [
    "print(re.search(r\"m.n\", r\"man\"))\n",
    "print(re.search(r\"m.n\", r\"men\"))"
   ]
  },
  {
   "cell_type": "markdown",
   "metadata": {},
   "source": [
    "However, it will match just a single character:"
   ]
  },
  {
   "cell_type": "code",
   "execution_count": null,
   "metadata": {},
   "outputs": [],
   "source": [
    "print(re.search(r\"m.n\", r\"moon\"))"
   ]
  },
  {
   "cell_type": "markdown",
   "metadata": {},
   "source": [
    "Then, applying Kleene star to a `.` will yield the original string."
   ]
  },
  {
   "cell_type": "code",
   "execution_count": null,
   "metadata": {},
   "outputs": [],
   "source": [
    "print(re.search(r\".*\", r\"moon\"))"
   ]
  },
  {
   "cell_type": "markdown",
   "metadata": {},
   "source": [
    "### Matching certain number of times\n",
    "\n",
    "To match some symbol $n$ times, we can add curly parenthesis `{}` after that symbol, and put that $n$ inside: `s{n}`."
   ]
  },
  {
   "cell_type": "code",
   "execution_count": null,
   "metadata": {},
   "outputs": [],
   "source": [
    "print(re.search(r\"mo{2}n\", r\"moon\"))"
   ]
  },
  {
   "cell_type": "markdown",
   "metadata": {},
   "source": [
    "We can also provide a range of the times we want to match that symbol. The range is denoted as `s{m,n}`, where `m` and `n` are the beginning and the end of the range."
   ]
  },
  {
   "cell_type": "code",
   "execution_count": null,
   "metadata": {},
   "outputs": [],
   "source": [
    "print(re.search(r\"mo{2,5}n\", r\"moooon\"))"
   ]
  },
  {
   "cell_type": "markdown",
   "metadata": {},
   "source": [
    "In we want to check a repetition of a group of symbols, we can enclose that group in the round parenthesis `()`:"
   ]
  },
  {
   "cell_type": "code",
   "execution_count": 57,
   "metadata": {},
   "outputs": [
    {
     "name": "stdout",
     "output_type": "stream",
     "text": [
      "<re.Match object; span=(0, 11), match='falalalafel'>\n",
      "<re.Match object; span=(0, 9), match='falalafel'>\n"
     ]
    }
   ],
   "source": [
    "print(re.search(r\"fa(la){2,5}fel\", r\"falalalafel\"))\n",
    "print(re.search(r\"fa(la){2}fel\", r\"falalafel\"))"
   ]
  },
  {
   "cell_type": "markdown",
   "metadata": {},
   "source": [
    "### Matching groups of symbols\n",
    "\n",
    "However, if we want to match one of the listed groups of symbols, it will not work to simply put those groups in parenthesis:"
   ]
  },
  {
   "cell_type": "code",
   "execution_count": null,
   "metadata": {},
   "outputs": [],
   "source": [
    "print(re.findall(r\"[(la)(lo)]\", r\"lola\"))"
   ]
  },
  {
   "cell_type": "markdown",
   "metadata": {},
   "source": [
    "The symbols in the square parenthesis are interpreted literally, and therefore the expression above will match parenthesis too:"
   ]
  },
  {
   "cell_type": "code",
   "execution_count": null,
   "metadata": {},
   "outputs": [],
   "source": [
    "print(re.findall(r\"[(la)(lo)]\", r\"hello (world)\"))"
   ]
  },
  {
   "cell_type": "markdown",
   "metadata": {},
   "source": [
    "To match one of the listed groups of symbols, we can join those groups using a special symbol `|` meaning **or**."
   ]
  },
  {
   "cell_type": "code",
   "execution_count": null,
   "metadata": {},
   "outputs": [],
   "source": [
    "print(re.search(r\"la|lo\", r\"lola\"))\n",
    "print(re.search(r\"(la|lo){2}\", r\"lola\"))\n",
    "print(re.search(r\"ba(la|lo){1,2}on\", r\"baloon\"))"
   ]
  },
  {
   "cell_type": "markdown",
   "metadata": {},
   "source": [
    "### Optionality\n",
    "\n",
    "Optionality of a symbol or a group of symbols can be expressed via putting a question mark `?` after that symbol or a group."
   ]
  },
  {
   "cell_type": "code",
   "execution_count": null,
   "metadata": {
    "scrolled": true
   },
   "outputs": [],
   "source": [
    "print(re.search(r\"python(ic)?\", r\"python\"))\n",
    "print(re.search(r\"python(ic)?\", r\"pythonic\"))\n",
    "print(re.search(r\"(py)?th?on(ic)?\", r\"pythonic\"))\n",
    "print(re.search(r\"(py)?th?on(ic)?\", r\"tonic\"))"
   ]
  },
  {
   "cell_type": "markdown",
   "metadata": {},
   "source": [
    "### Negation\n",
    "\n",
    "If symbols from some set should **not** be present in-between two characters, we can use a negation marker `^` used inside the set parenthesis: `[^...]`."
   ]
  },
  {
   "cell_type": "code",
   "execution_count": null,
   "metadata": {},
   "outputs": [],
   "source": [
    "print(re.search(r\"m[^bc]d\", r\"mad\"))\n",
    "print(re.search(r\"m[^bc]d\", r\"mcd\"))"
   ]
  },
  {
   "cell_type": "markdown",
   "metadata": {},
   "source": [
    "**Practice.** Find a regular expression that will prohibit any sequence made out of letters \"b\" and \"c\" in-between \"m\" and \"d\".\n",
    "\n",
    "    \"md\"        ->   Match\n",
    "    \"mod\"       ->   Match\n",
    "    \"mcd\"       ->   No match\n",
    "    \"mbcd\"      ->   No match\n",
    "    \"mbbcbcd\"   ->   No match\n",
    "    \"mcccccc\"   ->   No match"
   ]
  },
  {
   "cell_type": "code",
   "execution_count": null,
   "metadata": {},
   "outputs": [],
   "source": []
  },
  {
   "cell_type": "markdown",
   "metadata": {},
   "source": [
    "## Lookaround assertions\n",
    "\n",
    "Sometimes we want to match a string only in a particular position. In this case, we can use different types of lookaheads and lookbehinds:\n",
    "\n",
    "  * `(?<=foo)` **lookbehind**: makes sure that a string \"foo\" precedes the pattern we are matching;\n",
    "  * `(?=foo)`  **lookahead**:  makes sure that a string \"foo\" follows the pattern we are matching;\n",
    "  * `(?<!foo)` **negative lookbehind**: makes sure that a string \"foo\" does not precede the pattern we are matching;\n",
    "  * `(?!foo)`  **negative lookahead**:  makes sure that a string \"foo\" does not follow the pattern we are matching.\n",
    "  \n",
    "Lookbehinds check that the regular expression is preceded by a certain regular expression."
   ]
  },
  {
   "cell_type": "code",
   "execution_count": null,
   "metadata": {},
   "outputs": [],
   "source": [
    "print(re.search(r\"(?<=hello )world\", r\"hello world!\"))\n",
    "print(re.search(r\"(?<!hello )world\", r\"goodbye world!\"))\n",
    "print(re.search(r\"(?<!hello )world\", r\"hello world!\"))"
   ]
  },
  {
   "cell_type": "markdown",
   "metadata": {},
   "source": [
    "Similarly, lookaheads check that the regular expression is followed by a certain regular expression."
   ]
  },
  {
   "cell_type": "code",
   "execution_count": null,
   "metadata": {
    "scrolled": true
   },
   "outputs": [],
   "source": [
    "print(re.search(r\"hello(?= world)\", r\"hello world!\"))\n",
    "print(re.search(r\"hello(?! world)\", r\"hello people!\"))\n",
    "print(re.search(r\"hello(?! world)\", r\"hello world!\"))"
   ]
  },
  {
   "cell_type": "markdown",
   "metadata": {},
   "source": [
    "**Practice.** You are given the following string."
   ]
  },
  {
   "cell_type": "code",
   "execution_count": null,
   "metadata": {},
   "outputs": [],
   "source": [
    "string = \"a big giraffe came out of the water\""
   ]
  },
  {
   "cell_type": "markdown",
   "metadata": {},
   "source": [
    "Match all words consisting of $2$ or $3$ symols in `string`. You should expect to get the following output:\n",
    "\n",
    "    ['big', 'out', 'of', 'the']"
   ]
  },
  {
   "cell_type": "code",
   "execution_count": null,
   "metadata": {},
   "outputs": [],
   "source": []
  },
  {
   "cell_type": "markdown",
   "metadata": {},
   "source": [
    "As a sidenote, it is a good style to use as least of the lookaround expressions as possible. In simple words, when processing a lookahead or a lookbehind, regex compiler \"pretends\" that it is another regular expression that needs to be matched, attempts the match, and then needs to go back to the position where the assumption was made (this is why they are called _assertion operations)._ This backtracking operation is pretty expensive, and given large lookaround expressions and/or long strings to be searched, it can slow down the code by a lot."
   ]
  },
  {
   "cell_type": "markdown",
   "metadata": {},
   "source": [
    "### Shortcuts\n",
    "\n",
    "Additionally, there is a list of shortcuts to the collections of symbols of some type. Here are some of them:\n",
    "\n",
    "  * `\\d` matches digits, equivalent to `[1-9]`;\n",
    "  * `\\D` matches non-digits, equivalent to `[^1-9]`;\n",
    "  * `\\s` matches any whitespace character, equivalent to `[ \\t\\n\\r\\f\\v]`;\n",
    "  * `\\S` matches any non-whitespace character, equivalent to `[^ \\t\\n\\r\\f\\v]`;\n",
    "  * `\\w` matches any alphanumeric character, equivalent to `[a-zA-Z0-9_]`;\n",
    "  * `\\W` matches any non-alphanumeric character, equivalent to `[^a-zA-Z0-9_]`."
   ]
  },
  {
   "cell_type": "code",
   "execution_count": 13,
   "metadata": {},
   "outputs": [
    {
     "name": "stdout",
     "output_type": "stream",
     "text": [
      "['5', '1230', '340', '4', '500']\n"
     ]
    }
   ],
   "source": [
    "sentence = \"this sentence, for example, contains punctuations, words, and 5 digits. regular expressions can help us extract all the numbers, sequences of digits, in it! For example: 1230, 340, 4, 500.\"\n",
    "print(re.findall(r\"\\d+\", sentence))\n",
    "\n",
    "# Question: Why do we need the + after \\d?\n",
    "# What we would be extracting without it?\n",
    "# Hint: if you are not sure, you can test it!"
   ]
  },
  {
   "cell_type": "markdown",
   "metadata": {},
   "source": [
    "Additionally, the marker `\\b` indicates word boundaries.\n",
    "Observe the output of the following cell (do not worry aboyt the for-loop, focus on the code inside print)"
   ]
  },
  {
   "cell_type": "code",
   "execution_count": 11,
   "metadata": {},
   "outputs": [
    {
     "name": "stdout",
     "output_type": "stream",
     "text": [
      "visiting   -->   None\n",
      "inverse   -->   None\n",
      "within   -->   None\n",
      "in   -->   <re.Match object; span=(0, 2), match='in'>\n",
      "x visiting x   -->   None\n",
      "x inverse x   -->   None\n",
      "x within x   -->   None\n",
      "x in x   -->   <re.Match object; span=(2, 4), match='in'>\n"
     ]
    }
   ],
   "source": [
    "words = [\"visiting\", \"inverse\", \"within\", \"in\", \"x visiting x\", \"x inverse x\", \"x within x\", \"x in x\"]\n",
    "\n",
    "#\"for w in words\" means that we are repeating the print command\n",
    "# for every element w in the list words.\n",
    "for w in words:\n",
    "    print(w, \"  -->  \", re.search(r\"\\bin\\b\", w))"
   ]
  },
  {
   "cell_type": "markdown",
   "metadata": {},
   "source": [
    "## Getting rid of punctuation with regular expressions\n",
    "\n",
    "We have seen how Regular expressions can be used to search for strings that match a certain pattern.\n",
    "A lesser known function of regular expressions is that they can also be used to replace the matched pattern by some other pattern.\n",
    "It is this aspect of regular expressions that we are particularly interested in.\n",
    "Let us look at a simple example first where we replace every exclamation mark by a question mark."
   ]
  },
  {
   "cell_type": "code",
   "execution_count": null,
   "metadata": {},
   "outputs": [],
   "source": [
    "# first we have to load the regular expression library, called re\n",
    "import re\n",
    "\n",
    "# here's our example string\n",
    "example_string = \"Go... go home! I hate you!!! Never talk to me again!!1!!1!\"\n",
    "# replace every ! by ?\n",
    "print(re.sub(r\"!\", r\"?\", example_string))"
   ]
  },
  {
   "cell_type": "markdown",
   "metadata": {},
   "source": [
    "As you can see, the syntax of the expression for substitution is very close to the one we use for search.\n",
    "\n",
    "Here we use the substitution function of the `re` library, called `re.sub`.\n",
    "As any other function, the `re.sub` is followed by `(` and `)`.\n",
    "In contrast to `print` or `input`, `re.sub` needs three things to occur between those brackets, and they must be separated by a comma (`,`):\n",
    "\n",
    "1.  First we specify what parts of the string should be replaced. Note the `r` in front of `\"`.\n",
    "1.  Then we say what those parts should be replaced by. Note again the `r` in front of `\"`.\n",
    "1.  Finally, we tell the `sub` command in what string it should carry out those substitutions.\n"
   ]
  },
  {
   "cell_type": "markdown",
   "metadata": {},
   "source": [
    "**Practice.**\n",
    "Adapt the code above so that every exclamation mark is replaced by 3 question marks."
   ]
  },
  {
   "cell_type": "code",
   "execution_count": null,
   "metadata": {},
   "outputs": [],
   "source": []
  },
  {
   "cell_type": "markdown",
   "metadata": {},
   "source": [
    "## Escaping special characters\n",
    "\n",
    "As we saw before, when using a regular expression some symbols have a special meaning, and this allows us to represent complex patterns via strings.\n",
    "For example, suppose we want to delete every symbol in the string, including all spaces.\n",
    "Then we could do this with the following regular expression."
   ]
  },
  {
   "cell_type": "code",
   "execution_count": null,
   "metadata": {},
   "outputs": [],
   "source": [
    "# first we have to import the regular expression library, called re\n",
    "import re\n",
    "\n",
    "# here's our example string\n",
    "example_string = \"Go... go home! I hate you!!! Never talk to me again!!1!!1!\"\n",
    "# replace everything by ?\n",
    "print(re.sub(r\".\", r\"\", example_string))"
   ]
  },
  {
   "cell_type": "markdown",
   "metadata": {},
   "source": [
    "But if `.` matches anything, how can we match an actual dot (e.g. to remove a period)?\n",
    "We have to temporarily cancel the regular expression interpretation of `.`, which we do by putting a backlash `\\` in front of it.\n",
    "\n",
    "By writing `\\.`, we effectively say \"Computer, I mean an actual dot. Seriously, dude, don't give me a digit, a letter, or God knows what, I just want a dot.\"\n",
    "Using a backslash to block the regular expression interpretation is also called *escaping*.\n",
    "So when we write `\\.`, we escape `.` to get a standard dot."
   ]
  },
  {
   "cell_type": "code",
   "execution_count": null,
   "metadata": {},
   "outputs": [],
   "source": [
    "# first we have to import the regular expression library, called re\n",
    "import re\n",
    "\n",
    "# here's our example string\n",
    "example_string = \"Go... go home! I hate you!!! Never talk to me again!!1!!1!\"\n",
    "# replace everything by ?\n",
    "print(re.sub(r\"\\.\", r\"?\", example_string))"
   ]
  },
  {
   "cell_type": "markdown",
   "metadata": {},
   "source": [
    "## Multiple substitutions\n",
    "\n",
    "Our main motivation for using regular expressions is their ability to remove punctuation symbols from the user's input.\n",
    "But right now we only know how to replace individual characters.\n",
    "This would make it rather tedious to remove all punctuation symbols from the input."
   ]
  },
  {
   "cell_type": "code",
   "execution_count": 7,
   "metadata": {},
   "outputs": [
    {
     "name": "stdout",
     "output_type": "stream",
     "text": [
      "Please enter a test wordtest\n",
      "After the reg ex we get: test\n"
     ]
    }
   ],
   "source": [
    "#this gets a string from the user\n",
    "#and saves it in the variable leg_pulling\n",
    "\n",
    "leg_pulling = input(\"Please enter a test word\")\n",
    "# remove . (special character -> must be escaped with \\)\n",
    "leg_pulling = re.sub(r\"\\.\", r\"\", leg_pulling)\n",
    "# remove ? (special character -> must be escaped with \\)\n",
    "leg_pulling = re.sub(r\"\\?\", r\"\", leg_pulling)\n",
    "# remove !\n",
    "leg_pulling = re.sub(r\"!\", r\"\", leg_pulling)\n",
    "# remove ,\n",
    "leg_pulling = re.sub(r\",\", r\"\", leg_pulling)\n",
    "# remove ;\n",
    "leg_pulling = re.sub(r\";\", r\"\", leg_pulling)\n",
    "\n",
    "print(\"After the reg ex we get:\", leg_pulling )"
   ]
  },
  {
   "cell_type": "markdown",
   "metadata": {},
   "source": [
    "This is incredibly tedious.\n",
    "As we saw above though, regular expressions allow us to do just that with a syntax that's similar to lists in Python.\n",
    "Inside the string of the first argument, we can specify a range of alternatives between square brackets.\n",
    "So `r\"[\\.\\?!,;]\"` means \"any symbol that is a dot, a question mark, an exclamation mark, a period, or a semicolon\".\n",
    "Note that in contrast to Python lists, the entries between the square brackets are not separated by commas - that would make them even harder to read."
   ]
  },
  {
   "cell_type": "code",
   "execution_count": null,
   "metadata": {},
   "outputs": [],
   "source": [
    "leg_pulling = input(\"Please enter a test word\")\n",
    "# remove punctuation\n",
    "leg_pulling = re.sub(r\"[\\.\\?!,;]\", r\"\", leg_pulling)\n",
    "\n",
    "print(\"After the reg ex we get:\", leg_pulling )"
   ]
  },
  {
   "cell_type": "markdown",
   "metadata": {},
   "source": [
    "**Practice.**\n",
    "Without running the code above, try to figure out if the following input would pass the `if`-test: `Y!!;e...,S..?`.\n",
    "Write down your prediction.\n",
    "Then run the code above with this input.\n",
    "Was your prediction borne out?\n",
    "Explain why the string does or does not pass the `if`-test."
   ]
  },
  {
   "cell_type": "markdown",
   "metadata": {},
   "source": [
    "Everything listed above is just a small part of the functionality of regular expressions. It is useful to remember the basic principles, however, if something more advanced is required, you can always refer to cheat sheets or tutorials, such as [this one](https://www.rexegg.com/regex-quickstart.html).\n",
    "\n",
    "If you're curious, you can already experiment online on the website [Pythex](https://pythex.org/).\n",
    "But the power of regular expressions (or simply *regexes*) can feel overwhelming at the beginning.\n",
    "Sotake it slowly and grow your *regex* vocabulary step-by-step rather than doing everything in one fell swoop."
   ]
  },
  {
   "cell_type": "markdown",
   "metadata": {},
   "source": [
    "# Practice Problems\n",
    "\n",
    "**Problem.** Write a regular expression that matches a string that has an a followed by zero or more b's (e.g. using re.search)"
   ]
  },
  {
   "cell_type": "code",
   "execution_count": null,
   "metadata": {},
   "outputs": [],
   "source": [
    "# write the code here"
   ]
  },
  {
   "cell_type": "markdown",
   "metadata": {},
   "source": [
    "**Problem. (2pt)** Write a Python program that matches a string that has an a followed by one or more b's"
   ]
  },
  {
   "cell_type": "code",
   "execution_count": null,
   "metadata": {},
   "outputs": [],
   "source": [
    "# write the code here"
   ]
  },
  {
   "cell_type": "markdown",
   "metadata": {},
   "source": [
    "**Problem. (3pt)** Write a Python program to find the sequences of one upper case letter followed by lower case letters"
   ]
  },
  {
   "cell_type": "code",
   "execution_count": null,
   "metadata": {},
   "outputs": [],
   "source": [
    "#write the code here"
   ]
  },
  {
   "cell_type": "markdown",
   "metadata": {},
   "source": [
    "**Problem. (3pt)** Write a Python program that matches a word containing 'z'"
   ]
  },
  {
   "cell_type": "code",
   "execution_count": null,
   "metadata": {},
   "outputs": [],
   "source": [
    "#write the code here"
   ]
  },
  {
   "cell_type": "markdown",
   "metadata": {},
   "source": [
    "**Problem. (+5pt)** Consider the string:"
   ]
  },
  {
   "cell_type": "code",
   "execution_count": null,
   "metadata": {},
   "outputs": [],
   "source": [
    "string = \"The first number is Mary 528973, the other one is Peter 29857, and the last one is Mira 245289.\""
   ]
  },
  {
   "cell_type": "markdown",
   "metadata": {},
   "source": [
    "First, extract a list of numbers from this `string`.\n",
    "\n",
    "    Expected output: ['528973', '29857', '245289']"
   ]
  },
  {
   "cell_type": "code",
   "execution_count": null,
   "metadata": {},
   "outputs": [],
   "source": []
  },
  {
   "cell_type": "markdown",
   "metadata": {},
   "source": [
    "Second, extract a list of names from the `string`. Hint: every name is followed by a number.\n",
    "\n",
    "    Expected output: ['Mary', 'Peter', 'Mira']"
   ]
  },
  {
   "cell_type": "code",
   "execution_count": null,
   "metadata": {},
   "outputs": [],
   "source": []
  }
 ],
 "metadata": {
  "kernelspec": {
   "display_name": "Python 3",
   "language": "python",
   "name": "python3"
  },
  "language_info": {
   "codemirror_mode": {
    "name": "ipython",
    "version": 3
   },
   "file_extension": ".py",
   "mimetype": "text/x-python",
   "name": "python",
   "nbconvert_exporter": "python",
   "pygments_lexer": "ipython3",
   "version": "3.8.5"
  }
 },
 "nbformat": 4,
 "nbformat_minor": 2
}
